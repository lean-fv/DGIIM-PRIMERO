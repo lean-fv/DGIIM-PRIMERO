{
 "cells": [
  {
   "cell_type": "markdown",
   "id": "63f60502",
   "metadata": {},
   "source": [
    "# Práctica 3: Métodos iterativos"
   ]
  },
  {
   "cell_type": "markdown",
   "id": "6fb31320",
   "metadata": {},
   "source": [
    "## Método de Jacobi"
   ]
  },
  {
   "cell_type": "markdown",
   "id": "cdbbd139",
   "metadata": {},
   "source": [
    "En esta parte de la práctica programaremos el método de Jacobi para resolver sistemas de ecuaciones lineales. En primer lugar, importamos la librería `NumPy`:"
   ]
  },
  {
   "cell_type": "code",
   "execution_count": null,
   "id": "1957b8ad",
   "metadata": {},
   "outputs": [],
   "source": [
    "import numpy as np"
   ]
  },
  {
   "cell_type": "markdown",
   "id": "485984d4",
   "metadata": {},
   "source": [
    "Observamos algunas funciones que aparecen más adelante en la práctica."
   ]
  },
  {
   "cell_type": "code",
   "execution_count": null,
   "id": "f18af3df",
   "metadata": {},
   "outputs": [],
   "source": [
    "A=np.array([[10,4,1],[4,10,1],[1,1,5]])\n",
    "np.diag(A)  # Nos proporciona los elementos de la diagonal de una matriz en forma de array unidimensional"
   ]
  },
  {
   "cell_type": "code",
   "execution_count": null,
   "id": "9f4e474c",
   "metadata": {},
   "outputs": [],
   "source": [
    "1/np.diag(A)"
   ]
  },
  {
   "cell_type": "code",
   "execution_count": null,
   "id": "b77b46ae",
   "metadata": {},
   "outputs": [],
   "source": [
    "np.diag([3,2,5]) # Nos proporciona una matriz diagonal cuyos elementos de la diagonal principal son los introducidos en la lista"
   ]
  },
  {
   "cell_type": "markdown",
   "id": "4a1e254c",
   "metadata": {},
   "source": [
    "Observa que la misma función `diag` es diferente si el argumento es una matriz cuadrada o una lista"
   ]
  },
  {
   "cell_type": "code",
   "execution_count": null,
   "id": "29510af0",
   "metadata": {
    "scrolled": true
   },
   "outputs": [],
   "source": [
    "np.diagflat([3,2,5]) # Tiene la misma función en este caso que diag si se aplica a una lista"
   ]
  },
  {
   "cell_type": "code",
   "execution_count": null,
   "id": "eb553a8c",
   "metadata": {},
   "outputs": [],
   "source": [
    "v=np.array([1,1,1])\n",
    "np.linalg.norm(v), np.linalg.norm(v,1), np.linalg.norm(v, np.inf) \n",
    "# diferentes normas del vector v: euclídea, norma 1 y norma infinito"
   ]
  },
  {
   "cell_type": "code",
   "execution_count": null,
   "id": "f2aad42b",
   "metadata": {},
   "outputs": [],
   "source": [
    "v=np.array([2,-3,1])\n",
    "np.prod(v) # multiplica todos los elementos de un vector o una matriz"
   ]
  },
  {
   "cell_type": "code",
   "execution_count": null,
   "id": "d994553c",
   "metadata": {},
   "outputs": [],
   "source": [
    "A=np.array([[10,4,1],[4,10,1],[1,1,5]])\n",
    "np.prod(A)"
   ]
  },
  {
   "cell_type": "markdown",
   "id": "47d22bef",
   "metadata": {},
   "source": [
    "A continuación vamos a definir una función que calcule de forma aproximada la solución a un sistema de la forma $A x=b$. Vamos a incluir un **criterio de parada doble**. Por una parte se fija un **número máximo de iteraciones** y por otro se establece un criterio de parada del tipo: \n",
    "\n",
    "$$\n",
    "\\frac{\\|x^{(k+1)}-x^{(k)} \\|}{\\|x^{(k)} \\|}<tol\n",
    "$$\n",
    "\n",
    "donde $x^{(k)}$ representa la k-ésima iteración del método y tol es la tolerancia que se podrá fijar por el usuario. Esta condición es equivalente a:\n",
    "\n",
    "$$\n",
    "\\|x^{(k+1)}-x^{(k)} \\|<tol * \\|x^{(k)} \\|\n",
    "$$\n",
    "\n",
    "que será la que utilizaremos aquí."
   ]
  },
  {
   "cell_type": "code",
   "execution_count": 1,
   "id": "caf511ae",
   "metadata": {},
   "outputs": [],
   "source": [
    "def Jacobi(A, b, maxiter=1000, tol=10**(-10)):\n",
    "    \"\"\"\n",
    "    Esta función resuelve el sistema Ax=b de forma aproximada mediante el método iterativo de Jacobi empezando las iteraciones\n",
    "    en el vector nulo.\n",
    "    Las matrices A y b deben ser arrays de NumPy.\n",
    "    El número máximo de iteraciones se puede introducir por el usuario y es 1000 por defecto.\n",
    "    La tolerancia también se puede introducir por el usuario y es 10^(-10) por defecto.\n",
    "    El método se interrumpe cuando se alcanza el número máximo de iteraciones o cuando la tolerancia es menor que la indicada.\n",
    "    \n",
    "    \"\"\"\n",
    "    \n",
    "    n=np.shape(A)[1] # se calcula la dimensión de A\n",
    "    d=np.diag(A)     # obtenemos un array con los elementos de la diagonal de la matriz A\n",
    "    D=np.diag(d)     # creamos un array diagonal con los elementos de d\n",
    "    R=A-D            # matriz con los elementos que no están en la diagonal\n",
    "    x=np.zeros(n)\n",
    "    y=np.zeros(n)\n",
    "          \n",
    "    if np.prod(d)==0:\n",
    "        print('Hay elementos nulos en la diagonal de la matriz')\n",
    "    else:\n",
    "        k=1\n",
    "        er=1\n",
    "        nx=1\n",
    "        while (er>tol*nx and k<maxiter):\n",
    "            nx=np.linalg.norm(x,1)        \n",
    "            y=(b - np.dot(R,x)) / d       # aplicamos una iteración del método de Jacobi obteniendo un vector y\n",
    "            er=np.linalg.norm(y-x,1)      # calculamos la norma de la diferencia entre y y el resultado de la iteración anterior        \n",
    "            x=y\n",
    "           # print('Iteración k=', k, '  x^(k)= ', x ) # descomentar si se quieren ver las iteraciones.\n",
    "            k+=1\n",
    "        return x"
   ]
  },
  {
   "cell_type": "code",
   "execution_count": null,
   "id": "12976b4d",
   "metadata": {},
   "outputs": [],
   "source": [
    "A=np.array([[10,4,1],[4,10,1],[1,1,5]])\n",
    "b=np.array([15,15,7])\n",
    "Jacobi(A,b,13,10**(-5))"
   ]
  },
  {
   "cell_type": "code",
   "execution_count": null,
   "id": "bedaf50f",
   "metadata": {},
   "outputs": [],
   "source": [
    "A=np.array([[0,4,1],[4,10,1],[1,1,5]])\n",
    "b=np.array([15,15,7])\n",
    "Jacobi(A,b,13,10**(-5))"
   ]
  },
  {
   "cell_type": "markdown",
   "id": "1d0f6ce6",
   "metadata": {},
   "source": [
    "La línea de código:\n",
    "` y=(b - np.dot(R,x)) / d  ` se podría haber sustituido por un bucle `for` de la siguiente forma:"
   ]
  },
  {
   "cell_type": "code",
   "execution_count": null,
   "id": "4e7eb3a2",
   "metadata": {},
   "outputs": [],
   "source": [
    "def Jacobi2(A, b, maxiter=1000, tol=10**(-10)):\n",
    "    \"\"\"\n",
    "    Esta función resuelve el sistema Ax=b de forma aproximada mediante el método iterativo de Jacobi empezando las iteraciones\n",
    "    en el vector nulo.\n",
    "    Las matrices A y b deben ser arrays de NumPy.\n",
    "    El número máximo de iteraciones se puede introducir por el usuario y es 1000 por defecto.\n",
    "    La tolerancia también se puede introducir por el usuario y es 10^(-10) por defecto.\n",
    "    El método se interrumpe cuando se alcanza el número máximo de iteraciones o cuando la tolerancia es menor que la indicada.\n",
    "    \n",
    "    \"\"\"\n",
    "    \n",
    "    n=np.shape(A)[1] # se calcula la dimensión de A\n",
    "    x=np.zeros(n)\n",
    "    y=np.zeros(n)\n",
    "          \n",
    "    if np.prod(d)==0:\n",
    "        print('Hay elementos nulos en la diagonal de la matriz')\n",
    "    else:\n",
    "        k=1\n",
    "        er=1\n",
    "        nx=1\n",
    "        while (er>tol*nx and k<maxiter):\n",
    "            nx=np.linalg.norm(x,1)        \n",
    "            for i in range(n):\n",
    "                y[i] = (b[i] - np.dot(A[i,:i],x[:i]) - np.dot(A[i,i+1:],x[i+1:]) )/A[i,i]  \n",
    "            er=np.linalg.norm(y-x,1)   # calculamos la norma de la diferencia entre y y el resultado de la iteración anterior        \n",
    "            x=np.copy(y)\n",
    "           # print('Iteración k=', k, '  x^(k)= ', x ) # descomentar si se quieren ver las iteraciones.\n",
    "            k+=1\n",
    "        return x"
   ]
  },
  {
   "cell_type": "code",
   "execution_count": null,
   "id": "b44942a7",
   "metadata": {},
   "outputs": [],
   "source": [
    "A=np.array([[10,4,1],[4,10,1],[1,1,5]])\n",
    "b=np.array([15,15,7])\n",
    "Jacobi2(A,b,13,10**(-5))"
   ]
  },
  {
   "cell_type": "markdown",
   "id": "7c8356c1",
   "metadata": {},
   "source": [
    "**Ejercicio 1:** Modifica el código anterior para resolver de forma aproximada un sistema de ecuaciones lineales utilizando el método de **Gauss-Seidel**. Comprueba el funcionamiento del programa con el sistema $A x=b$ donde\n",
    "$$A=\\left(\\begin{array}{rrr}\n",
    "10 & 4 & 1 \\\\\n",
    "4 & 10 & 1 \\\\\n",
    "1 & 1 & 5 \\end{array} \\right) \\qquad b=\\left(15,15,7 \\right) $$ "
   ]
  },
  {
   "cell_type": "markdown",
   "id": "f566be97",
   "metadata": {},
   "source": [
    "**Ejercicio 2 (opcional):** Una vez programado Gauss-Seidel, haz las modificaciones oportunas para definir una función que resuelva un sistema utilizando un método de relajación con la constante $\\omega$ introducida por el usuario."
   ]
  },
  {
   "cell_type": "markdown",
   "id": "20d09aa0",
   "metadata": {},
   "source": [
    "# Para terminar"
   ]
  },
  {
   "cell_type": "markdown",
   "id": "46156fba",
   "metadata": {},
   "source": [
    "Ahora ya tienes una función definida para cada uno de los métodos de resolución que hemos visto en clase. Estaría bien que los probaramos todos con un ejemplo un poco más grande ¿no crees? "
   ]
  },
  {
   "cell_type": "markdown",
   "id": "24a0d707",
   "metadata": {},
   "source": [
    "**Ejercicio final:** Define una matriz A cuadrada de orden 20 cuyo elemento $a_{ij}=1/(i+j)$ siempre que $i\\ne j$ y $a_{ii}=20 *i^2$. Define también un vector b cuyas componentes sean todas iguales a 20. Resuelve ahora el sistema $A x=b$ con **todos los métodos** que hemos visto, es decir:\n",
    "\n",
    "- Utilizando la función `solve` del módulo `linalg` de `NumPy`. \n",
    "- Mediante los método de **Gauss** y **Gauss con pivotaje parcial**.\n",
    "- Utilizando descomposición **LU** y de **Cholesky**.\n",
    "- De forma aproximada mediante los métodos de **Jacobi** y **Gauss-Seidel** con un máximo de 10000 iteraciones y una tolerancia de 10^(-12). Si también has programado el método de relajación, inclúyelo también utilizando $w=0.8$.\n",
    "\n",
    "Comenta los resultados."
   ]
  },
  {
   "cell_type": "code",
   "execution_count": null,
   "id": "f78031c4",
   "metadata": {},
   "outputs": [],
   "source": []
  }
 ],
 "metadata": {
  "kernelspec": {
   "display_name": "Python 3 (ipykernel)",
   "language": "python",
   "name": "python3"
  },
  "language_info": {
   "codemirror_mode": {
    "name": "ipython",
    "version": 3
   },
   "file_extension": ".py",
   "mimetype": "text/x-python",
   "name": "python",
   "nbconvert_exporter": "python",
   "pygments_lexer": "ipython3",
   "version": "3.9.7"
  }
 },
 "nbformat": 4,
 "nbformat_minor": 5
}
