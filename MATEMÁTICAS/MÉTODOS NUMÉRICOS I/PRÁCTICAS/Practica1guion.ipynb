{
 "cells": [
  {
   "cell_type": "markdown",
   "id": "63f60502",
   "metadata": {},
   "source": [
    "# Práctica 1: Resolución de SEL. Métodos directos. Método de Gauss"
   ]
  },
  {
   "cell_type": "markdown",
   "id": "0f452f76",
   "metadata": {},
   "source": [
    "Utilizando la librería NumPy de Python podemos resolver sistemas de ecuaciones lineales. En concreto usando la función `solve` del módulo `linalg`. Importamos la librería y vemos cómo se utiliza:"
   ]
  },
  {
   "cell_type": "code",
   "execution_count": 1,
   "id": "db71d4c7",
   "metadata": {},
   "outputs": [],
   "source": [
    "import numpy as np"
   ]
  },
  {
   "cell_type": "code",
   "execution_count": 2,
   "id": "0e4304d1",
   "metadata": {},
   "outputs": [
    {
     "name": "stdout",
     "output_type": "stream",
     "text": [
      "[-2.86666667  2.4        -1.86666667]\n"
     ]
    }
   ],
   "source": [
    "A=np.array([[2,4,1],[1,3,5],[-1,0,1]])\n",
    "b=np.array([2,-5,1])\n",
    "\n",
    "x = np.linalg.solve(A, b)\n",
    "print(x)"
   ]
  },
  {
   "cell_type": "markdown",
   "id": "23718e1f",
   "metadata": {},
   "source": [
    "Existe una función similar en la librería `SciPy`. Puedes investigar sobre el módulo `linalg` de `SciPy`."
   ]
  },
  {
   "cell_type": "markdown",
   "id": "9165e791",
   "metadata": {},
   "source": [
    "### Resolución de sistemas sencillos"
   ]
  },
  {
   "cell_type": "markdown",
   "id": "2f3859a3",
   "metadata": {},
   "source": [
    "Si el sistema que se va a resolver es **triangular inferior**, se puede resolver fácilmente mediante sustitución hacia atrás. Implementamos la solución de este tipo de sistemas en Python."
   ]
  },
  {
   "cell_type": "code",
   "execution_count": 3,
   "id": "f57e4b7b",
   "metadata": {},
   "outputs": [],
   "source": [
    "def sust_regresiva(A,b):\n",
    "    \"\"\"\n",
    "    Esta función resuelve el sistema Ax=b mediante sustitución regresiva. \n",
    "    A y b deben ser arrays de numpy. \n",
    "    A debe ser una matriz triangular superior.\n",
    "    \"\"\"\n",
    "    A=A.astype(float)     # cambiamos los elementos a tipo flotante\n",
    "    b=b.astype(float) \n",
    "    n=np.size(b)\n",
    "    x=np.zeros(n)         # almacenaremos aquí la solución del sistema\n",
    "                       \n",
    "    # ahora se resuelve el sistema por sustitución regresiva\n",
    "    x[n-1]=b[n-1]/A[n-1,n-1]\n",
    "    for i in range(n-2,-1,-1):     \n",
    "        x[i]=(b[i]-np.dot(A[i][i+1:],x[i+1:]))/A[i,i]\n",
    "                \n",
    "    return x"
   ]
  },
  {
   "cell_type": "code",
   "execution_count": 4,
   "id": "1c79e800",
   "metadata": {},
   "outputs": [
    {
     "data": {
      "text/plain": [
       "array([-4.8,  2.3,  0.4])"
      ]
     },
     "execution_count": 4,
     "metadata": {},
     "output_type": "execute_result"
    }
   ],
   "source": [
    "A=np.array([[1,2,3],[0,2,1],[0,0,5]])\n",
    "b=np.array([1,5,2])\n",
    "sust_regresiva(A,b)"
   ]
  },
  {
   "cell_type": "code",
   "execution_count": 5,
   "id": "4b774208",
   "metadata": {},
   "outputs": [
    {
     "data": {
      "text/plain": [
       "array([-4.8,  2.3,  0.4])"
      ]
     },
     "execution_count": 5,
     "metadata": {},
     "output_type": "execute_result"
    }
   ],
   "source": [
    "np.linalg.solve(A, b)"
   ]
  },
  {
   "cell_type": "markdown",
   "id": "ece862c2",
   "metadata": {},
   "source": [
    "**Ejercicio 1**: Escribe una función que resuelva por sustitución progresiva un sistema en el que la matriz de coeficientes es triangular inferior. Comprueba que se obtiene el mismo resultado utilizando dicha función que mediante la función `solve` de Numpy si lo aplicamos a las matrices \n",
    "$$A=\\left(\\begin{array}{rrr}\n",
    "1 & 0 & 0 \\\\\n",
    "2 & 2 & 0 \\\\\n",
    "3 & 1 & 5 \\end{array} \\right) \\qquad b=\\left(2,5,1 \\right) $$."
   ]
  },
  {
   "cell_type": "markdown",
   "id": "f92bd32b",
   "metadata": {},
   "source": [
    "### Método de Gauss"
   ]
  },
  {
   "cell_type": "markdown",
   "id": "bb2cf68d",
   "metadata": {},
   "source": [
    "Vamos a programar ahora el método de Gauss. Para esto podemos crear una función independiente o bien utilizar la función que hemos definido previamente. Aquí podéis observar cómo se crearía la función independiente para el método de Gauss sin intercambio de filas."
   ]
  },
  {
   "cell_type": "code",
   "execution_count": null,
   "id": "32516c79",
   "metadata": {},
   "outputs": [],
   "source": [
    "def Gauss(A,b):\n",
    "    \"\"\"\n",
    "    Esta función resuelve el sistema Ax=b mediante el método de Gauss. \n",
    "    A y b deben ser arrays de numpy.\n",
    "    \"\"\"\n",
    "    A=A.astype(float)     # cambiamos los elementos a tipo flotante\n",
    "    bb=(np.array([b]).transpose()).astype(float) \n",
    "    Ab=np.concatenate((A,bb),axis=1)\n",
    "    n=np.size(b)\n",
    "    x=np.zeros(n)         # almacenaremos aquí la solución del sistema\n",
    "    \n",
    "    # aquí se hacen operaciones por filas en la matriz para conseguir una triangular\n",
    "    for i in range(n):\n",
    "        if Ab[i,i]==0: sys.exit('Aparece una división por cero, el proceso no puede concluirse')\n",
    "        else:\n",
    "            for j in range(i+1,n):\n",
    "                m=Ab[j,i]/Ab[i,i]\n",
    "                Ab[j][i+1:]=Ab[j][i+1:]-m*Ab[i][i+1:]\n",
    "                    \n",
    "    # ahora se resuelve el sistema por sustitución regresiva\n",
    "    x[n-1]=Ab[n-1,n]/Ab[n-1,n-1]\n",
    "    for i in range(n-2,-1,-1):\n",
    "        x[i]=(Ab[i,n]-np.dot(Ab[i][i+1:n],x[i+1:n]))/Ab[i,i]\n",
    "                \n",
    "    return x"
   ]
  },
  {
   "cell_type": "code",
   "execution_count": null,
   "id": "fc414a37",
   "metadata": {},
   "outputs": [],
   "source": [
    "A=np.array([[2,4,1],[1,3,5],[-1,0,1]])\n",
    "b=np.array([2,-5,1])\n",
    "Gauss(A,b)"
   ]
  },
  {
   "cell_type": "code",
   "execution_count": null,
   "id": "89f40488",
   "metadata": {},
   "outputs": [],
   "source": [
    "A=np.array([[2,4,1],[1,3,5],[-1,0,1]])\n",
    "b=np.array([2,-5,1])\n",
    "np.linalg.solve(A, b)"
   ]
  },
  {
   "cell_type": "markdown",
   "id": "126407ac",
   "metadata": {},
   "source": [
    "Si se quiere utilizar la función que se ha definido previamente se puede hacer de la siguiente forma:"
   ]
  },
  {
   "cell_type": "code",
   "execution_count": null,
   "id": "e2c044d6",
   "metadata": {},
   "outputs": [],
   "source": [
    "def Gauss2(A,b):\n",
    "    \"\"\"\n",
    "    Esta función resuelve el sistema Ax=b mediante el método de Gauss. \n",
    "    A y b deben ser arrays de numpy.\n",
    "    \"\"\"\n",
    "    A=A.astype(float)     # cambiamos los elementos a tipo flotante\n",
    "    bb=(np.array([b]).transpose()).astype(float) \n",
    "    Ab=np.concatenate((A,bb),axis=1)\n",
    "    n=np.size(b)\n",
    "       \n",
    "    # aquí se hacen operaciones por filas en la matriz para conseguir una triangular\n",
    "    for i in range(n):\n",
    "        if Ab[i,i]==0: sys.exit('Aparece una división por cero, el proceso no puede concluirse')\n",
    "        else:\n",
    "            for j in range(i+1,n):\n",
    "                m=Ab[j,i]/Ab[i,i]\n",
    "                Ab[j]=Ab[j]-m*Ab[i]\n",
    "                    \n",
    "    # ahora se resuelve el sistema por sustitución regresiva\n",
    "    AG=Ab[:,:n]\n",
    "    bG=Ab[:,n].transpose()\n",
    "    x=sust_regresiva(AG,bG)\n",
    "                \n",
    "    return x"
   ]
  },
  {
   "cell_type": "code",
   "execution_count": null,
   "id": "f2fe7bea",
   "metadata": {},
   "outputs": [],
   "source": [
    "A=np.array([[2,4,1],[1,3,5],[-1,0,1]])\n",
    "b=np.array([2,-5,1])\n",
    "Gauss2(A,b)"
   ]
  },
  {
   "cell_type": "markdown",
   "id": "0778d68a",
   "metadata": {},
   "source": [
    "**Ejercicio 2:** Modifica el código anterior para que resuelva SEL usando pivotaje parcial. Comprueba que el código funciona correctamente con las mismas matrices $A$ y $b$ del ejemplo anterior."
   ]
  }
 ],
 "metadata": {
  "kernelspec": {
   "display_name": "Python 3 (ipykernel)",
   "language": "python",
   "name": "python3"
  },
  "language_info": {
   "codemirror_mode": {
    "name": "ipython",
    "version": 3
   },
   "file_extension": ".py",
   "mimetype": "text/x-python",
   "name": "python",
   "nbconvert_exporter": "python",
   "pygments_lexer": "ipython3",
   "version": "3.9.7"
  }
 },
 "nbformat": 4,
 "nbformat_minor": 5
}
