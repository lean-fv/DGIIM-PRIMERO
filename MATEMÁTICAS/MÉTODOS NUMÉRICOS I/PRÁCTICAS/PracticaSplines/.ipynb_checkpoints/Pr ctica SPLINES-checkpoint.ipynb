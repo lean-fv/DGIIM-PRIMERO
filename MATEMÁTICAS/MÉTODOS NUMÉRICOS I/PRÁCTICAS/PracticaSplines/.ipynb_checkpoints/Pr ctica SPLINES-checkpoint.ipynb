{
 "cells": [
  {
   "cell_type": "markdown",
   "id": "8d9e69c3",
   "metadata": {},
   "source": [
    "# Práctica SPLINES\n",
    "### Elena Gallardo Caro, Marta Zhao Ladrón de Guevara Cano, Leandro Jorge Fernández Vega"
   ]
  },
  {
   "cell_type": "markdown",
   "id": "5fcdcde1",
   "metadata": {},
   "source": [
    "## Bibliotecas"
   ]
  },
  {
   "cell_type": "code",
   "execution_count": 1,
   "id": "2416b895",
   "metadata": {},
   "outputs": [],
   "source": [
    "import numpy as np\n",
    "import matplotlib.pyplot as plt"
   ]
  },
  {
   "cell_type": "markdown",
   "id": "916902ee",
   "metadata": {},
   "source": [
    "## Funciones auxiliares"
   ]
  },
  {
   "cell_type": "code",
   "execution_count": 2,
   "id": "b2589fe4",
   "metadata": {},
   "outputs": [],
   "source": [
    "def calculo_h(t):\n",
    "    \n",
    "    \"Calculamos h para hallar la matriz de coeficientes\"\n",
    "    \n",
    "    n = np.size(t)-1\n",
    "    h = np.zeros([n])\n",
    "    \n",
    "    for j in range(n):\n",
    "        h[j] = t[j+1]-t[j]\n",
    "        \n",
    "    return (h)    "
   ]
  },
  {
   "cell_type": "code",
   "execution_count": 3,
   "id": "d884cd9e",
   "metadata": {},
   "outputs": [],
   "source": [
    "def calcular_pendiente(f, h):\n",
    "    \n",
    "    \"Función que calcula las pendientes (delta_i) para la construcción de la matriz de términos independientes.\"\n",
    "    \n",
    "    n = np.size(f)-1\n",
    "    pendiente = np.zeros([n])\n",
    "    \n",
    "    for i in range(n):\n",
    "        pendiente[i] = (f[i+1]-f[i])/h[i]\n",
    "        \n",
    "    return pendiente   "
   ]
  },
  {
   "cell_type": "code",
   "execution_count": 4,
   "id": "984e91c8",
   "metadata": {},
   "outputs": [],
   "source": [
    "def matriz_coeficientes(h):\n",
    "    \n",
    "    \"Función que construye matriz de coeficientes del sistema a resolver.\"\n",
    "    \n",
    "    n = np.size(h)\n",
    "    M = np.zeros([n+1, n+1])\n",
    "    \n",
    "    #Contrucción de la diagonal central\n",
    "    M[0][0] = 2/h[0]\n",
    "    M[n][n] = 2/h[n-1]\n",
    "    \n",
    "    for i in range(1,n):\n",
    "        M[i][i] = 2*((1/h[i-1])+(1/h[i]))\n",
    "        \n",
    "    #Contrucción del resto de diagonales\n",
    "    for i in range(1, n+1):\n",
    "        M[i][i-1] = 1/h[i-1]\n",
    "        M[i-1][i] = M[i][i-1]\n",
    "        \n",
    "    return M  "
   ]
  },
  {
   "cell_type": "code",
   "execution_count": 5,
   "id": "572fcc04",
   "metadata": {},
   "outputs": [],
   "source": [
    "def terminos_independientes(pendiente, h):\n",
    "    \n",
    "    \"Función que calcula los términos independientes del sistema a resolver a partir de los incrementos.\"\n",
    "    \n",
    "    n = np.size(h)\n",
    "    t_ind = np.zeros([n+1])\n",
    "    \n",
    "    #Cálculo del primer y ultimo termino\n",
    "    t_ind[0] = 3*(pendiente[0]/h[0])\n",
    "    t_ind[n] = 3*(pendiente[n-1]/h[n-1])\n",
    "    \n",
    "    #Cálculo del resto\n",
    "    for i in range(1, n):\n",
    "        t_ind[i] = 3*((pendiente[i-1]/h[i-1])+(pendiente[i]/h[i]))\n",
    "        \n",
    "    return t_ind"
   ]
  },
  {
   "cell_type": "markdown",
   "id": "e8e41d8d",
   "metadata": {},
   "source": [
    "## Funciones principales"
   ]
  },
  {
   "cell_type": "code",
   "execution_count": 6,
   "id": "c6cba81e",
   "metadata": {},
   "outputs": [],
   "source": [
    "def funcion_spline(t, f):\n",
    "    \n",
    "    \"Función que calcula los coeficientes de todos los polinomios del spline cúbico, devolviendo una matriz de dimension 4xn.\"\n",
    "    \n",
    "    n = np.size(t)-1\n",
    "    d = np.zeros([n])\n",
    "    \n",
    "    #Calculamos matriz de coeficientes\n",
    "    h = calculo_h(t)\n",
    "    M = matriz_coeficientes(h)\n",
    "        \n",
    "    #Calculamos vector de términos independientes\n",
    "    pendiente = calcular_pendiente(f, h)\n",
    "    \n",
    "    t_ind = terminos_independientes(pendiente, h)\n",
    "    \n",
    "    d = np.linalg.solve(M, t_ind)\n",
    "    \n",
    "    #Guardamos en cada fila de una matriz los coeficientes de cada polinomio para llevar a cabo Newton-Horner\n",
    "    A = np.zeros([n,4])\n",
    "    for i in range(n):\n",
    "        A[i][0] = f[i]\n",
    "        A[i][1] = d[i]\n",
    "        A[i][2] = (pendiente[i]-d[i])/h[i]\n",
    "        A[i][3] = ((d[i]+d[i+1])-2*pendiente[i])/(h[i]**2)\n",
    "    \n",
    "    return A\n"
   ]
  },
  {
   "cell_type": "code",
   "execution_count": 7,
   "id": "07bf4fae",
   "metadata": {},
   "outputs": [],
   "source": [
    "def Pol_Newton_Horner(x_i,fila_matriz,x):\n",
    "    \n",
    "    \"Función que evalúa el polinomio de interpolación en un punto x mediante el algoritmo de Newton-Horner,\"\n",
    "    \"a partir del array de puntos y del array de coeficientes.\"\n",
    "    \n",
    "    n = np.size(x_i)\n",
    "    valor = np.zeros([n])\n",
    "    \n",
    "    valor[n-1] = fila_matriz[n-1]\n",
    "    \n",
    "    for i in range (1,n):\n",
    "        valor[n-1-i] = fila_matriz[n-1-i] + ((x-x_i[n-1-i]) * valor[n-i])      \n",
    "        \n",
    "    return valor[0]\n"
   ]
  },
  {
   "cell_type": "code",
   "execution_count": 8,
   "id": "a70f71a7",
   "metadata": {},
   "outputs": [],
   "source": [
    "def plotspline(X,Y):\n",
    "    \n",
    "    \"Función que evalua t en el polinomio de interpolación que se ha creado con x,t e y,t\"\n",
    "    \n",
    "    n = np.size(X)\n",
    "    T = np.arange(0,n,1)\n",
    "    n = n-2\n",
    "    \n",
    "    matriz_x = funcion_spline(T,X) # matriz de coeficientes de los puntos X\n",
    "    matriz_y = funcion_spline(T,Y) # matriz de coeficientes de los puntos Y\n",
    "    \n",
    "    p = 1/100 # 1/precision\n",
    "\n",
    "    R = np.arange(0,n + p,p)\n",
    "\n",
    "    H = np.zeros([n*100]) #array para guardar las evaluaciones del spline de las coordenadas X\n",
    "\n",
    "    J = np.zeros ([n*100]) #array para guardar las evaluaciones del spline de las coordenadas Y\n",
    "\n",
    "    total_utilizados = 0\n",
    "\n",
    "    #Evaluacion en todos los puntos\n",
    "    for i in range (0,n):\n",
    "        for y in range (0,100):\n",
    "            H[total_utilizados]=Pol_Newton_Horner([i,i,i+1], matriz_x[i], i+y*p) \n",
    "            J[total_utilizados]=Pol_Newton_Horner([i,i,i+1], matriz_y[i], i+y*p)\n",
    "            total_utilizados+=1\n",
    "            \n",
    "    plt.plot(H,J, \"k\")\n",
    "    "
   ]
  },
  {
   "cell_type": "markdown",
   "id": "8ef3c948",
   "metadata": {},
   "source": [
    "## Programa Principal: Esbozado de Mickey Mouse"
   ]
  },
  {
   "cell_type": "code",
   "execution_count": 9,
   "id": "54bd4722",
   "metadata": {},
   "outputs": [
    {
     "data": {
      "image/png": "[encoded data removed]",
      "text/plain": [
       "<Figure size 432x288 with 1 Axes>"
      ]
     },
     "metadata": {
      "needs_background": "light"
     },
     "output_type": "display_data"
    }
   ],
   "source": [
    "#Esbozamos mediante los vectores de coordenadas X e Y\n",
    "X = np.array([1.8338231875824955,2.0485918498806557,2.1718849708295997,2.2315429325790883,2.247451722378952,2.251428919828918,2.319041276478339,2.362790448427964,2.4144940152775214,2.492796651072984,2.5932221602538497,2.755447982776786,2.948573961970758,3.195775215339042,3.4,3.644996258570624,3.8796549047332096,4.114313550895796,4.31125920035368,4.562679178385022,4.487199133983771,4.453666678219808,4.464844163474463,4.554264045511696,4.710748839076852,4.92312105891528,5.228638989209157,5.515527777411945,5.798690737196515,6.022240442289596,6.227161005291587,6.379919970438527,6.5065981366579395,6.588566361858736,6.596018018695172,6.5513080776765555,6.432081568293579,6.305403402074166,6.141466951672573,5.79070258510149,5.43123722654673,5.578291236864587,5.651818242023515,5.6844969109830386,5.900993092839883,6.14199827641637,6.456530465151785,6.877268328005653,7.288789440268642,7.4742755728180645,7.534558565896626,7.497461339386742,7.400081119798296,7.176533521644335,6.891065380345845,6.5311272891434,6.11533673551299,5.836074423373162,5.637487890295951,5.519577136281357,5.339608090680135,4.967258341160364,4.721120642537742,4.495249011709542,4.269377380881342,4.011988778309672,3.8748349029324274,3.681619199701581,3.569429436535283,3.3388171455823374,3.158066971592191,2.9586185037409947,2.8090321528525974,2.6135170251511735,2.4203160012217735,2.1788147213100233,1.9890637156650766,1.792412673451223,1.6544119420730798,1.606223446465195,1.641877910793776,1.5145405381917012,1.4890730636712863,1.641877910793776,1.8338231875824955,2.0485918498806557])\n",
    "Y = np.array([2.971015066421612,2.927265894471987,2.7880639837231804,2.6210216908246124,2.5056829647756014,2.3704582514767605,2.3585266591268628,2.513637359675533,2.6568164678743056,2.8179772716119325,2.9647530157993502,3.16560403416108,3.3432799350195332,3.5016432379585893,3.6,3.667389309057985,3.684150640926741,3.679960307959552,3.6380569782876617,3.554250318943882,3.7593827195362723,3.960577454120044,4.1878529876313415,4.467290118997691,4.705743137763642,4.869679588165234,4.996357754384646,5.011261068057518,4.9441961565295935,4.843598789237708,4.7020173093454245,4.549258344198487,4.355515266451151,4.076078135084802,3.8264476310641964,3.6028979259711167,3.3569932503687294,3.1930567999671378,3.0663786337477257,2.9438560047185294,2.9642801728182313,2.6538328177027597,2.335215795347407,2.041107774711697,2.278028124668241,2.4577608039456194,2.5639664780640703,2.55988164444413,2.3313038419516308,2.01134026330388,1.645005151518774,1.366775952694643,1.0653609873018342,0.7284709142259728,0.5360902103074263,0.4367969437688218,0.4988552353554496,0.6850301101153332,0.9394691056205074,1.3118188551402747,1.007733226365798,0.6291776476873682,0.4615426852567534,0.35123328415461014,0.2619351975481132,0.21465973993290893,0.11193373347980182,0.046489704966128524,0.030907793415253935,0.08388629268822755,0.17114499737312527,0.3425460244327458,0.4952487576313168,0.6297266303122239,0.833277709094983,0.9367782576285894,1.060978915868917,1.2852301043583974,1.5198313477012382,1.8263589765136503,2.0199117828688027,2.2949605076892827,2.6107571917424264,2.8756189267547403,2.971015066421612,2.927265894471987])\n",
    "plotspline(X,Y)"
   ]
  },
  {
   "cell_type": "code",
   "execution_count": null,
   "id": "a8d9b7cd",
   "metadata": {},
   "outputs": [],
   "source": []
  }
 ],
 "metadata": {
  "kernelspec": {
   "display_name": "Python 3 (ipykernel)",
   "language": "python",
   "name": "python3"
  },
  "language_info": {
   "codemirror_mode": {
    "name": "ipython",
    "version": 3
   },
   "file_extension": ".py",
   "mimetype": "text/x-python",
   "name": "python",
   "nbconvert_exporter": "python",
   "pygments_lexer": "ipython3",
   "version": "3.9.7"
  }
 },
 "nbformat": 4,
 "nbformat_minor": 5
}
