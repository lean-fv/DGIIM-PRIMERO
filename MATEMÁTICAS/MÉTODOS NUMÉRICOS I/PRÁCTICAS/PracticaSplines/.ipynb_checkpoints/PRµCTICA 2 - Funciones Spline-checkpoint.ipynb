{
 "cells": [
  {
   "cell_type": "markdown",
   "id": "11698021",
   "metadata": {},
   "source": [
    "# PRÁCTICA 2:"
   ]
  },
  {
   "cell_type": "code",
   "execution_count": 1,
   "id": "924525d4",
   "metadata": {},
   "outputs": [],
   "source": [
    "import numpy as np "
   ]
  },
  {
   "cell_type": "code",
   "execution_count": 2,
   "id": "b9cec6b5",
   "metadata": {},
   "outputs": [],
   "source": [
    "import matplotlib.pyplot as plt"
   ]
  },
  {
   "cell_type": "code",
   "execution_count": 3,
   "id": "0b87ce08",
   "metadata": {},
   "outputs": [],
   "source": [
    "def Calcula_H (x):\n",
    "    \n",
    "    \"Función que calcula la diferencia entre cada pareja de puntos en un array\"\n",
    "    \n",
    "    n = np.size(x)-1\n",
    "    h = np.zeros([n])\n",
    "    \n",
    "    for i in range (n):\n",
    "        h[i] = x[i+1] - x[i]\n",
    "        \n",
    "    return h\n",
    "    "
   ]
  },
  {
   "cell_type": "code",
   "execution_count": 4,
   "id": "9cba9590",
   "metadata": {},
   "outputs": [],
   "source": [
    "def Calcula_Delta_i (h,f):\n",
    "    \n",
    "    \"Función que calcula la pendiente que existe entre cada pareja de puntos en un array\"\n",
    "    \n",
    "    n = np.size(f)-1\n",
    "    delta_i = np.zeros([n])\n",
    "\n",
    "    for i in range (n):\n",
    "        delta_i[i] = (f[i+1]-f[i])/h[i]\n",
    "    \n",
    "    return delta_i\n",
    "    "
   ]
  },
  {
   "cell_type": "code",
   "execution_count": 5,
   "id": "69b75847",
   "metadata": {},
   "outputs": [],
   "source": [
    "def Calcula_Matriz_Coef (h):\n",
    "\n",
    "    \"Función que calcula a matriz de coeficientes para calcular las derivadas de un spline cúbico\"\n",
    "    \n",
    "    n = np.size(h)+1\n",
    "    M_coef = np.zeros([n,n])\n",
    "    \n",
    "    M_coef[0][0] = 2/h[0]\n",
    "    M_coef[n-1,n-1] = 2/h[n-2]\n",
    "    \n",
    "    for i in range(1,n-1):\n",
    "        M_coef[i][i] = 2*((1/h[i-1])+(1/h[i]))\n",
    "    for i in range(1, n):\n",
    "        M_coef[i][i-1] = 1/h[i-1]\n",
    "        M_coef[i-1][i] = 1/h[i-1]\n",
    "     \n",
    "    return M_coef    \n",
    "    "
   ]
  },
  {
   "cell_type": "code",
   "execution_count": 6,
   "id": "5b899cab",
   "metadata": {},
   "outputs": [],
   "source": [
    "def Calcula_Term_Indep (h,delta_i):\n",
    "    \n",
    "    \"Función que calcula los términos independientes de las ecuaciones de las derivadas de un spline cúbico\"\n",
    "    \n",
    "    n = np.size(h)+1\n",
    "    term_indep = np.zeros([n])\n",
    "    \n",
    "    term_indep[0] = 3*(delta_i[0]/h[0])\n",
    "    term_indep[n-1] = 3*(delta_i[n-2]/h[n-2])\n",
    "    \n",
    "    for i in range(1, n-1):\n",
    "        term_indep[i] = 3*((delta_i[i-1]/h[i-1])+(delta_i[i]/h[i]))\n",
    "        \n",
    "    return term_indep"
   ]
  },
  {
   "cell_type": "code",
   "execution_count": 7,
   "id": "0d55eef4",
   "metadata": {},
   "outputs": [],
   "source": [
    "def Spline (x,f):\n",
    "    \n",
    "    n = np.size(t) - 1\n",
    "    \n",
    "    h = Calcula_H(x)\n",
    "    delta_i = Calcula_Delta_i(h,f)\n",
    "    \n",
    "    M_coef = Calcula_Matriz_Coef(h)   \n",
    "    term_indep = Calcula_Term_Indep(h,delta_i)\n",
    "    \n",
    "    d = np.linalg.solve(M_coef, term_indep)\n",
    "    \n",
    "    A = np.zeros([n,4])\n",
    "    \n",
    "    \n",
    "    for i in range (n):\n",
    "        A[i][0] = f[i]\n",
    "        A[i][1] = d[i]\n",
    "        A[i][2] = (delta_i[i]-d[i])/h[i]\n",
    "        A[i][3] = (d[i]+d[i+1]-2*delta_i[i])/(h[i]**2)\n",
    "    \n",
    "    return A\n",
    "        \n",
    "    "
   ]
  },
  {
   "cell_type": "code",
   "execution_count": 8,
   "id": "0c02398f",
   "metadata": {},
   "outputs": [],
   "source": [
    "X=np.array([1.8338231875824955,2.0485918498806557,2.1718849708295997,2.2315429325790883,2.247451722378952,2.251428919828918,2.319041276478339,2.362790448427964,2.4144940152775214,2.492796651072984,2.5932221602538497,2.755447982776786,2.948573961970758,3.195775215339042,3.4,3.644996258570624,3.8796549047332096,4.114313550895796,4.31125920035368,4.562679178385022,4.487199133983771,4.453666678219808,4.464844163474463,4.554264045511696,4.710748839076852,4.92312105891528,5.228638989209157,5.515527777411945,5.798690737196515,6.022240442289596,6.227161005291587,6.379919970438527,6.5065981366579395,6.588566361858736,6.596018018695172,6.5513080776765555,6.432081568293579,6.305403402074166,6.141466951672573,5.79070258510149,5.43123722654673,5.578291236864587,5.651818242023515,5.6844969109830386,5.900993092839883,6.14199827641637,6.456530465151785,6.877268328005653,7.288789440268642,7.4742755728180645,7.534558565896626,7.497461339386742,7.400081119798296,7.176533521644335,6.891065380345845,6.5311272891434,6.11533673551299,5.836074423373162,5.637487890295951,5.519577136281357,5.339608090680135,4.967258341160364,4.721120642537742,4.495249011709542,4.269377380881342,4.011988778309672,3.8748349029324274,3.681619199701581,3.569429436535283,3.3388171455823374,3.158066971592191,2.9586185037409947,2.8090321528525974,2.6135170251511735,2.4203160012217735,2.1788147213100233,1.9890637156650766,1.792412673451223,1.6544119420730798,1.606223446465195,1.641877910793776,1.5145405381917012,1.4890730636712863,1.641877910793776,1.8338231875824955,2.0485918498806557])\n",
    "Y=np.array([2.971015066421612,2.927265894471987,2.7880639837231804,2.6210216908246124,2.5056829647756014,2.3704582514767605,2.3585266591268628,2.513637359675533,2.6568164678743056,2.8179772716119325,2.9647530157993502,3.16560403416108,3.3432799350195332,3.5016432379585893,3.6,3.667389309057985,3.684150640926741,3.679960307959552,3.6380569782876617,3.554250318943882,3.7593827195362723,3.960577454120044,4.1878529876313415,4.467290118997691,4.705743137763642,4.869679588165234,4.996357754384646,5.011261068057518,4.9441961565295935,4.843598789237708,4.7020173093454245,4.549258344198487,4.355515266451151,4.076078135084802,3.8264476310641964,3.6028979259711167,3.3569932503687294,3.1930567999671378,3.0663786337477257,2.9438560047185294,2.9642801728182313,2.6538328177027597,2.335215795347407,2.041107774711697,2.278028124668241,2.4577608039456194,2.5639664780640703,2.55988164444413,2.3313038419516308,2.01134026330388,1.645005151518774,1.366775952694643,1.0653609873018342,0.7284709142259728,0.5360902103074263,0.4367969437688218,0.4988552353554496,0.6850301101153332,0.9394691056205074,1.3118188551402747,1.007733226365798,0.6291776476873682,0.4615426852567534,0.35123328415461014,0.2619351975481132,0.21465973993290893,0.11193373347980182,0.046489704966128524,0.030907793415253935,0.08388629268822755,0.17114499737312527,0.3425460244327458,0.4952487576313168,0.6297266303122239,0.833277709094983,0.9367782576285894,1.060978915868917,1.2852301043583974,1.5198313477012382,1.8263589765136503,2.0199117828688027,2.2949605076892827,2.6107571917424264,2.8756189267547403,2.971015066421612,2.927265894471987])\n",
    "\n",
    "\n",
    "n = np.size(X)\n",
    "\n",
    "t = np.linspace(0,n,86)\n",
    "\n",
    "matriz_x = Spline(t,X)\n",
    "matriz_y = Spline (t,Y)"
   ]
  },
  {
   "cell_type": "code",
   "execution_count": 16,
   "id": "13b46983",
   "metadata": {},
   "outputs": [],
   "source": [
    "def Eval_Newton_Horner (Coef_Pol,t,x,i):\n",
    "    \n",
    "    valor = Coef_Pol[0] + (t-x[i])*((Coef_Pol[1] + (t-x[i])*(Coef_pol[2]+(Coef_pol[3])*(t-x[i+1]))))\n",
    "    return valor"
   ]
  },
  {
   "cell_type": "code",
   "execution_count": 17,
   "id": "005dc1b8",
   "metadata": {},
   "outputs": [],
   "source": [
    "def plotspline (polinomios_x,polinomios_y,puntos_x,puntos_y,t):\n",
    "    \n",
    "    \"Función que evalua t en el polinomio de interpolación que se ha creado con x,t e y,t\"\n",
    "    \n",
    "    size_x = np.size(puntos_x)\n",
    "    size_t = np.size(t)\n",
    "    \n",
    "    R = np.zeros([n,100])\n",
    "    S = np.zeros([n,100])\n",
    "    \n",
    "    for i in range (0,size_x):\n",
    "        for j in range (0,100):\n",
    "            R[i][j] = Eval_Newton_Horner(polinomios_x[i],t[i*100+j],puntos_x[i],i)\n",
    "            S[i][j] = Eval_Newton_Horner(polinomios_y[i],t[i*100+j],puntos_y[i],i)\n",
    "    \n",
    "    plt.plot(R,S)"
   ]
  },
  {
   "cell_type": "code",
   "execution_count": null,
   "id": "c7e9eef3",
   "metadata": {},
   "outputs": [],
   "source": []
  },
  {
   "cell_type": "code",
   "execution_count": 18,
   "id": "78ecc9d9",
   "metadata": {},
   "outputs": [
    {
     "ename": "IndexError",
     "evalue": "invalid index to scalar variable.",
     "output_type": "error",
     "traceback": [
      "\u001b[1;31m---------------------------------------------------------------------------\u001b[0m",
      "\u001b[1;31mIndexError\u001b[0m                                Traceback (most recent call last)",
      "\u001b[1;32m~\\AppData\\Local\\Temp/ipykernel_6176/2485212835.py\u001b[0m in \u001b[0;36m<module>\u001b[1;34m\u001b[0m\n\u001b[1;32m----> 1\u001b[1;33m \u001b[0mplotspline\u001b[0m\u001b[1;33m(\u001b[0m\u001b[0mmatriz_x\u001b[0m\u001b[1;33m,\u001b[0m\u001b[0mmatriz_y\u001b[0m\u001b[1;33m,\u001b[0m\u001b[0mX\u001b[0m\u001b[1;33m,\u001b[0m\u001b[0mY\u001b[0m\u001b[1;33m,\u001b[0m\u001b[0mt\u001b[0m\u001b[1;33m)\u001b[0m\u001b[1;33m\u001b[0m\u001b[1;33m\u001b[0m\u001b[0m\n\u001b[0m",
      "\u001b[1;32m~\\AppData\\Local\\Temp/ipykernel_6176/2935272604.py\u001b[0m in \u001b[0;36mplotspline\u001b[1;34m(polinomios_x, polinomios_y, puntos_x, puntos_y, t)\u001b[0m\n\u001b[0;32m     11\u001b[0m     \u001b[1;32mfor\u001b[0m \u001b[0mi\u001b[0m \u001b[1;32min\u001b[0m \u001b[0mrange\u001b[0m \u001b[1;33m(\u001b[0m\u001b[1;36m0\u001b[0m\u001b[1;33m,\u001b[0m\u001b[0msize_x\u001b[0m\u001b[1;33m)\u001b[0m\u001b[1;33m:\u001b[0m\u001b[1;33m\u001b[0m\u001b[1;33m\u001b[0m\u001b[0m\n\u001b[0;32m     12\u001b[0m         \u001b[1;32mfor\u001b[0m \u001b[0mj\u001b[0m \u001b[1;32min\u001b[0m \u001b[0mrange\u001b[0m \u001b[1;33m(\u001b[0m\u001b[1;36m0\u001b[0m\u001b[1;33m,\u001b[0m\u001b[1;36m100\u001b[0m\u001b[1;33m)\u001b[0m\u001b[1;33m:\u001b[0m\u001b[1;33m\u001b[0m\u001b[1;33m\u001b[0m\u001b[0m\n\u001b[1;32m---> 13\u001b[1;33m             \u001b[0mR\u001b[0m\u001b[1;33m[\u001b[0m\u001b[0mi\u001b[0m\u001b[1;33m]\u001b[0m\u001b[1;33m[\u001b[0m\u001b[0mj\u001b[0m\u001b[1;33m]\u001b[0m \u001b[1;33m=\u001b[0m \u001b[0mEval_Newton_Horner\u001b[0m\u001b[1;33m(\u001b[0m\u001b[0mpolinomios_x\u001b[0m\u001b[1;33m[\u001b[0m\u001b[0mi\u001b[0m\u001b[1;33m]\u001b[0m\u001b[1;33m,\u001b[0m\u001b[0mt\u001b[0m\u001b[1;33m[\u001b[0m\u001b[0mi\u001b[0m\u001b[1;33m*\u001b[0m\u001b[1;36m100\u001b[0m\u001b[1;33m+\u001b[0m\u001b[0mj\u001b[0m\u001b[1;33m]\u001b[0m\u001b[1;33m,\u001b[0m\u001b[0mpuntos_x\u001b[0m\u001b[1;33m[\u001b[0m\u001b[0mi\u001b[0m\u001b[1;33m]\u001b[0m\u001b[1;33m,\u001b[0m\u001b[0mi\u001b[0m\u001b[1;33m)\u001b[0m\u001b[1;33m\u001b[0m\u001b[1;33m\u001b[0m\u001b[0m\n\u001b[0m\u001b[0;32m     14\u001b[0m             \u001b[0mS\u001b[0m\u001b[1;33m[\u001b[0m\u001b[0mi\u001b[0m\u001b[1;33m]\u001b[0m\u001b[1;33m[\u001b[0m\u001b[0mj\u001b[0m\u001b[1;33m]\u001b[0m \u001b[1;33m=\u001b[0m \u001b[0mEval_Newton_Horner\u001b[0m\u001b[1;33m(\u001b[0m\u001b[0mpolinomios_y\u001b[0m\u001b[1;33m[\u001b[0m\u001b[0mi\u001b[0m\u001b[1;33m]\u001b[0m\u001b[1;33m,\u001b[0m\u001b[0mt\u001b[0m\u001b[1;33m[\u001b[0m\u001b[0mi\u001b[0m\u001b[1;33m*\u001b[0m\u001b[1;36m100\u001b[0m\u001b[1;33m+\u001b[0m\u001b[0mj\u001b[0m\u001b[1;33m]\u001b[0m\u001b[1;33m,\u001b[0m\u001b[0mpuntos_y\u001b[0m\u001b[1;33m[\u001b[0m\u001b[0mi\u001b[0m\u001b[1;33m]\u001b[0m\u001b[1;33m,\u001b[0m\u001b[0mi\u001b[0m\u001b[1;33m)\u001b[0m\u001b[1;33m\u001b[0m\u001b[1;33m\u001b[0m\u001b[0m\n\u001b[0;32m     15\u001b[0m \u001b[1;33m\u001b[0m\u001b[0m\n",
      "\u001b[1;32m~\\AppData\\Local\\Temp/ipykernel_6176/1008888579.py\u001b[0m in \u001b[0;36mEval_Newton_Horner\u001b[1;34m(Coef_Pol, t, x, i)\u001b[0m\n\u001b[0;32m      1\u001b[0m \u001b[1;32mdef\u001b[0m \u001b[0mEval_Newton_Horner\u001b[0m \u001b[1;33m(\u001b[0m\u001b[0mCoef_Pol\u001b[0m\u001b[1;33m,\u001b[0m\u001b[0mt\u001b[0m\u001b[1;33m,\u001b[0m\u001b[0mx\u001b[0m\u001b[1;33m,\u001b[0m\u001b[0mi\u001b[0m\u001b[1;33m)\u001b[0m\u001b[1;33m:\u001b[0m\u001b[1;33m\u001b[0m\u001b[1;33m\u001b[0m\u001b[0m\n\u001b[0;32m      2\u001b[0m \u001b[1;33m\u001b[0m\u001b[0m\n\u001b[1;32m----> 3\u001b[1;33m     \u001b[0mvalor\u001b[0m \u001b[1;33m=\u001b[0m \u001b[0mCoef_Pol\u001b[0m\u001b[1;33m[\u001b[0m\u001b[1;36m0\u001b[0m\u001b[1;33m]\u001b[0m \u001b[1;33m+\u001b[0m \u001b[1;33m(\u001b[0m\u001b[0mt\u001b[0m\u001b[1;33m-\u001b[0m\u001b[0mx\u001b[0m\u001b[1;33m[\u001b[0m\u001b[0mi\u001b[0m\u001b[1;33m]\u001b[0m\u001b[1;33m)\u001b[0m\u001b[1;33m*\u001b[0m\u001b[1;33m(\u001b[0m\u001b[1;33m(\u001b[0m\u001b[0mCoef_Pol\u001b[0m\u001b[1;33m[\u001b[0m\u001b[1;36m1\u001b[0m\u001b[1;33m]\u001b[0m \u001b[1;33m+\u001b[0m \u001b[1;33m(\u001b[0m\u001b[0mt\u001b[0m\u001b[1;33m-\u001b[0m\u001b[0mx\u001b[0m\u001b[1;33m[\u001b[0m\u001b[0mi\u001b[0m\u001b[1;33m]\u001b[0m\u001b[1;33m)\u001b[0m\u001b[1;33m*\u001b[0m\u001b[1;33m(\u001b[0m\u001b[0mCoef_pol\u001b[0m\u001b[1;33m[\u001b[0m\u001b[1;36m2\u001b[0m\u001b[1;33m]\u001b[0m\u001b[1;33m+\u001b[0m\u001b[1;33m(\u001b[0m\u001b[0mCoef_pol\u001b[0m\u001b[1;33m[\u001b[0m\u001b[1;36m3\u001b[0m\u001b[1;33m]\u001b[0m\u001b[1;33m)\u001b[0m\u001b[1;33m*\u001b[0m\u001b[1;33m(\u001b[0m\u001b[0mt\u001b[0m\u001b[1;33m-\u001b[0m\u001b[0mx\u001b[0m\u001b[1;33m[\u001b[0m\u001b[0mi\u001b[0m\u001b[1;33m+\u001b[0m\u001b[1;36m1\u001b[0m\u001b[1;33m]\u001b[0m\u001b[1;33m)\u001b[0m\u001b[1;33m)\u001b[0m\u001b[1;33m)\u001b[0m\u001b[1;33m)\u001b[0m\u001b[1;33m\u001b[0m\u001b[1;33m\u001b[0m\u001b[0m\n\u001b[0m\u001b[0;32m      4\u001b[0m     \u001b[1;32mreturn\u001b[0m \u001b[0mvalor\u001b[0m\u001b[1;33m\u001b[0m\u001b[1;33m\u001b[0m\u001b[0m\n",
      "\u001b[1;31mIndexError\u001b[0m: invalid index to scalar variable."
     ]
    }
   ],
   "source": [
    "plotspline(matriz_x,matriz_y,X,Y,t)"
   ]
  },
  {
   "cell_type": "code",
   "execution_count": null,
   "id": "15f374f5",
   "metadata": {},
   "outputs": [],
   "source": []
  }
 ],
 "metadata": {
  "kernelspec": {
   "display_name": "Python 3 (ipykernel)",
   "language": "python",
   "name": "python3"
  },
  "language_info": {
   "codemirror_mode": {
    "name": "ipython",
    "version": 3
   },
   "file_extension": ".py",
   "mimetype": "text/x-python",
   "name": "python",
   "nbconvert_exporter": "python",
   "pygments_lexer": "ipython3",
   "version": "3.9.7"
  }
 },
 "nbformat": 4,
 "nbformat_minor": 5
}
