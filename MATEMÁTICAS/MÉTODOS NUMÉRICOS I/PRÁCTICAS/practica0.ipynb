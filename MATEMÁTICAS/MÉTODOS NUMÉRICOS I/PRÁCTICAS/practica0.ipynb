{
 "cells": [
  {
   "cell_type": "code",
   "execution_count": 7,
   "id": "7bb5e8f1",
   "metadata": {},
   "outputs": [
    {
     "name": "stdout",
     "output_type": "stream",
     "text": [
      "Esta es la primera practica de Metodos Numericos I: calculo del mayor numero entre 4 introducidos por el usuario.\n"
     ]
    }
   ],
   "source": [
    "print (\"Esta es la primera practica de Metodos Numericos I: calculo del mayor numero entre 4 introducidos por el usuario.\")"
   ]
  },
  {
   "cell_type": "code",
   "execution_count": 8,
   "id": "b3caa22c",
   "metadata": {},
   "outputs": [
    {
     "name": "stdout",
     "output_type": "stream",
     "text": [
      "Introduzca un numero:1\n",
      "Introduzca un numero:2\n",
      "Introduzca un numero:3\n",
      "Introduzca un numero:4\n",
      "El mayor es  4.0\n"
     ]
    }
   ],
   "source": [
    "a = float (input (\"Introduzca un numero:\"))\n",
    "b = float (input (\"Introduzca un numero:\"))\n",
    "c = float (input (\"Introduzca un numero:\"))\n",
    "d = float (input (\"Introduzca un numero:\"))\n",
    "\n",
    "if (a>b and a>c and a>d):\n",
    "    print (\"El mayor es \",a)\n",
    "if (b>a and b>c and b>d):\n",
    "    print (\"El mayor es \",b)\n",
    "if (c>b and c>a and c>d):\n",
    "    print (\"El mayor es \",c)\n",
    "if (d>b and d>c and d>a): \n",
    "    print (\"El mayor es \",d)\n"
   ]
  },
  {
   "cell_type": "code",
   "execution_count": null,
   "id": "a271b378",
   "metadata": {},
   "outputs": [],
   "source": []
  }
 ],
 "metadata": {
  "kernelspec": {
   "display_name": "Python 3 (ipykernel)",
   "language": "python",
   "name": "python3"
  },
  "language_info": {
   "codemirror_mode": {
    "name": "ipython",
    "version": 3
   },
   "file_extension": ".py",
   "mimetype": "text/x-python",
   "name": "python",
   "nbconvert_exporter": "python",
   "pygments_lexer": "ipython3",
   "version": "3.9.7"
  }
 },
 "nbformat": 4,
 "nbformat_minor": 5
}
