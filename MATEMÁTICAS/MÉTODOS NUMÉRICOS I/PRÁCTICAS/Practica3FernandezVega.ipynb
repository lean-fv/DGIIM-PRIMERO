{
 "cells": [
  {
   "cell_type": "markdown",
   "id": "ec00b4b0",
   "metadata": {},
   "source": [
    "# Práctica 3: Métodos iterativos"
   ]
  },
  {
   "cell_type": "markdown",
   "id": "3ba03a5d",
   "metadata": {},
   "source": [
    "## Método de Jacobi"
   ]
  },
  {
   "cell_type": "code",
   "execution_count": 1,
   "id": "ab55f7f7",
   "metadata": {},
   "outputs": [],
   "source": [
    "import numpy as np"
   ]
  },
  {
   "cell_type": "markdown",
   "id": "15a73c79",
   "metadata": {},
   "source": [
    "Ejercicio 1: Modifica el código anterior para resolver de forma aproximada un sistema de ecuaciones lineales utilizando el método de Gauss-Seidel. Comprueba el funcionamiento del programa con el sistema  𝐴𝑥=𝑏  donde\n",
    "A= ([10,4,1],[4,10,1],[1,1,5]) b=([15,15,7])"
   ]
  }
 ],
 "metadata": {
  "kernelspec": {
   "display_name": "Python 3 (ipykernel)",
   "language": "python",
   "name": "python3"
  },
  "language_info": {
   "codemirror_mode": {
    "name": "ipython",
    "version": 3
   },
   "file_extension": ".py",
   "mimetype": "text/x-python",
   "name": "python",
   "nbconvert_exporter": "python",
   "pygments_lexer": "ipython3",
   "version": "3.9.7"
  }
 },
 "nbformat": 4,
 "nbformat_minor": 5
}
