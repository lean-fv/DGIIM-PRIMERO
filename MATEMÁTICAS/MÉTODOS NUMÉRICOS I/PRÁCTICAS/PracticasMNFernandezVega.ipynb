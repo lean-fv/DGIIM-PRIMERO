{
 "cells": [
  {
   "cell_type": "markdown",
   "id": "6f3d4471",
   "metadata": {},
   "source": [
    "# MÉTODOS NUMÉRICOS"
   ]
  },
  {
   "cell_type": "markdown",
   "id": "a1b200b4",
   "metadata": {},
   "source": [
    "### Leandro Jorge Fernández Vega"
   ]
  },
  {
   "cell_type": "markdown",
   "id": "96118f1c",
   "metadata": {},
   "source": [
    "# PRÁCTICA 0: Introducción a Python."
   ]
  },
  {
   "cell_type": "code",
   "execution_count": null,
   "id": "bfcc1803",
   "metadata": {},
   "outputs": [],
   "source": [
    "import numpy as np\n",
    "from math import sqrt\n",
    "import sys"
   ]
  },
  {
   "cell_type": "markdown",
   "id": "25a8f89d",
   "metadata": {},
   "source": [
    "**Ejercicio:** Escribe un pequeño programa que calcule el máximo entre 4 números que debe introducir el usuario."
   ]
  },
  {
   "cell_type": "code",
   "execution_count": null,
   "id": "914ae3c9",
   "metadata": {},
   "outputs": [],
   "source": [
    "a = float (input (\"Introduzca un numero:\"))\n",
    "b = float (input (\"Introduzca un numero:\"))\n",
    "c = float (input (\"Introduzca un numero:\"))\n",
    "d = float (input (\"Introduzca un numero:\"))\n",
    "\n",
    "if (a>b and a>c and a>d):\n",
    "    print (\"El mayor es \",a)\n",
    "if (b>a and b>c and b>d):\n",
    "    print (\"El mayor es \",b)\n",
    "if (c>b and c>a and c>d):\n",
    "    print (\"El mayor es \",c)\n",
    "if (d>b and d>c and d>a): \n",
    "    print (\"El mayor es \",d)\n"
   ]
  },
  {
   "cell_type": "markdown",
   "id": "f2edccc0",
   "metadata": {},
   "source": [
    "**Ejercicio:** \n",
    "- Crea un array de `Numpy` de 8 filas y 10 columnas de manera que el elemento $(i,j)$ sea  $3i+2j$ para $1\\le i\\le 8$ y $1\\le j\\le 10$. Ten en cuenta que las filas y columnas se numeran a partir de 1 pero en Python la numeración empieza en 0. El primer elemento de la matriz debe ser 5.\n",
    "- Crea ahora un array $B$ de números aleatorios entre 0 y 1 de tamaño $4\\times 4$. Calcula $B^{10}$."
   ]
  },
  {
   "cell_type": "code",
   "execution_count": null,
   "id": "1d831880",
   "metadata": {},
   "outputs": [],
   "source": [
    "# 1º parte\n",
    "A=np.zeros([8,10])\n",
    "for i in range (1,9):\n",
    "    for j in range (1,11):\n",
    "        A[i-1,j-1]=3*i+2*j\n",
    "\n",
    "print (\"A=\\n\",A,\"\\n\\n\")\n",
    "\n",
    "#2º parte\n",
    "B=np.random.rand(4,4)\n",
    "B_0=B\n",
    "for i in range (10):\n",
    "    B=np.dot(B,B_0)\n",
    "        \n",
    "print (\"B^10=\\n\",B)"
   ]
  },
  {
   "cell_type": "markdown",
   "id": "78569df1",
   "metadata": {},
   "source": [
    "# PRÁCTICA 1: Resolución de SEL. Métodos directos. Método de Gauss"
   ]
  },
  {
   "cell_type": "markdown",
   "id": "d0b71aa2",
   "metadata": {},
   "source": [
    "**Ejercicio 1:** Escribe una función que resuelva por sustitución progresiva un sistema en el que la matriz de coeficientes es \n",
    "triangular inferior. Comprueba que se obtiene el mismo resultado utilizando dicha función que mediante la función solve de \n",
    "Numpy si lo aplicamos a las matrices 𝐴=[[1,0,0],[2,2,0],[3,1,5]] b=(2,5,1)"
   ]
  },
  {
   "cell_type": "code",
   "execution_count": null,
   "id": "81c6e096",
   "metadata": {},
   "outputs": [],
   "source": [
    "def sust_progresiva(A,b):\n",
    "    \"\"\"\n",
    "    Esta función resuelve el sistema Ax=b mediante sustitución progresiva. \n",
    "    A y b deben ser arrays de numpy. \n",
    "    A debe ser una matriz triangular inferior.\n",
    "    \"\"\"\n",
    "    A=A.astype(float)     # cambiamos los elementos a tipo flotante\n",
    "    b=b.astype(float) \n",
    "    n=np.size(b)\n",
    "    x=np.zeros(n)         # almacenaremos aquí la solución del sistema\n",
    "                       \n",
    "    # ahora se resuelve el sistema por sustitución progresiva\n",
    "    x[0]=b[0]/A[0,0]\n",
    "    for i in range(1,n,1):     \n",
    "        x[i]=(b[i]-np.dot(A[i][:i+1],x[:i+1]))/A[i,i]\n",
    "                \n",
    "    return x"
   ]
  },
  {
   "cell_type": "code",
   "execution_count": null,
   "id": "d4928b90",
   "metadata": {},
   "outputs": [],
   "source": [
    "def sust_regresiva(A,b):\n",
    "    \"\"\"\n",
    "    Esta función resuelve el sistema Ax=b mediante sustitución regresiva. \n",
    "    A y b deben ser arrays de numpy. \n",
    "    A debe ser una matriz triangular superior.\n",
    "    \"\"\"\n",
    "    A=A.astype(float)     # cambiamos los elementos a tipo flotante\n",
    "    b=b.astype(float) \n",
    "    n=np.size(b)\n",
    "    x=np.zeros(n)         # almacenaremos aquí la solución del sistema\n",
    "                       \n",
    "    # ahora se resuelve el sistema por sustitución regresiva\n",
    "    x[n-1]=b[n-1]/A[n-1,n-1]\n",
    "    for i in range(n-2,-1,-1):     \n",
    "        x[i]=(b[i]-np.dot(A[i][i+1:],x[i+1:]))/A[i,i]\n",
    "                \n",
    "    return x"
   ]
  },
  {
   "cell_type": "code",
   "execution_count": null,
   "id": "862a9acb",
   "metadata": {},
   "outputs": [],
   "source": [
    "A=np.array([[1,0,0],[2,2,0],[3,1,5]])\n",
    "b=np.array([2,5,1])\n",
    "print(\"x= \",sust_progresiva(A,b))\n",
    "np.linalg.solve(A,b)"
   ]
  },
  {
   "cell_type": "code",
   "execution_count": null,
   "id": "05dda9d2",
   "metadata": {},
   "outputs": [],
   "source": []
  },
  {
   "cell_type": "markdown",
   "id": "8f7d9ed6",
   "metadata": {},
   "source": [
    "**Ejercicio 2:** Modifica el código anterior para que resuelva SEL usando pivotaje parcial. Comprueba que el código funciona correctamente con las mismas matrices  𝐴  y  𝑏  del ejemplo anterior."
   ]
  },
  {
   "cell_type": "markdown",
   "id": "4d8c3c69",
   "metadata": {},
   "source": [
    "## Funciones"
   ]
  },
  {
   "cell_type": "code",
   "execution_count": null,
   "id": "d5640df2",
   "metadata": {},
   "outputs": [],
   "source": [
    "def Pos_fila_max (columna):\n",
    "    \"\"\"\n",
    "    Esta función calcula la posición de la fila donde se encuentra el elemento con mayor valor absoluto.\n",
    "    \n",
    "    \"\"\"\n",
    "    pos_fila_max = 0\n",
    "    max = 0\n",
    "    for i in range (0, len(columna)):\n",
    "        if (columna[i] > max):\n",
    "            pos_fila_max = i\n",
    "            max = i\n",
    "        \n",
    "    return pos_fila_max"
   ]
  },
  {
   "cell_type": "code",
   "execution_count": null,
   "id": "7a48100d",
   "metadata": {},
   "outputs": [],
   "source": [
    "def Pivote_max (columna):\n",
    "    for i in range (0,len(columna)):\n",
    "        max = 0;\n",
    "        if (columna[i] > max):\n",
    "            max = columna[i]\n",
    "        \n",
    "    return max"
   ]
  },
  {
   "cell_type": "markdown",
   "id": "e8f78bb2",
   "metadata": {},
   "source": [
    "## Programa Principal"
   ]
  },
  {
   "cell_type": "code",
   "execution_count": null,
   "id": "909da977",
   "metadata": {},
   "outputs": [],
   "source": [
    "def Gauss(A,b):\n",
    "    \"\"\"\n",
    "    Esta función resuelve el sistema Ax=b mediante el método de Gauss. \n",
    "    A y b deben ser arrays de numpy.\n",
    "    \"\"\"\n",
    "    A=A.astype(float)     # cambiamos los elementos a tipo flotante\n",
    "    bb=(np.array([b]).transpose()).astype(float) \n",
    "    Ab=np.concatenate((A,bb),axis=1)\n",
    "    n=np.size(b)\n",
    "    x=np.zeros(n)         # almacenaremos aquí la solución del sistema\n",
    "    \n",
    "    # aquí se hacen operaciones por filas en la matriz para conseguir una triangular\n",
    "    for i in range(n):\n",
    "        if Ab[i,i]==0: sys.exit('Aparece una división por cero, el proceso no puede concluirse')\n",
    "        else:\n",
    "            for j in range(i+1,n):\n",
    "                m=Ab[j,i]/Ab[i,i]\n",
    "                Ab[j][i+1:]=Ab[j][i+1:]-m*Ab[i][i+1:]\n",
    "                    \n",
    "    # ahora se resuelve el sistema por sustitución regresiva\n",
    "    x[n-1]=Ab[n-1,n]/Ab[n-1,n-1]\n",
    "    for i in range(n-2,-1,-1):\n",
    "        x[i]=(Ab[i,n]-np.dot(Ab[i][i+1:n],x[i+1:n]))/Ab[i,i]\n",
    "                \n",
    "    return x"
   ]
  },
  {
   "cell_type": "code",
   "execution_count": null,
   "id": "ceec3023",
   "metadata": {},
   "outputs": [],
   "source": [
    "def Gauss2(A,b):\n",
    "    \"\"\"\n",
    "    Esta función resuelve el sistema Ax=b mediante el método de Gauss. \n",
    "    A y b deben ser arrays de numpy.\n",
    "    \"\"\"\n",
    "    A=A.astype(float)     # cambiamos los elementos a tipo flotante\n",
    "    bb=(np.array([b]).transpose()).astype(float) \n",
    "    Ab=np.concatenate((A,bb),axis=1)\n",
    "    n=np.size(b)\n",
    "       \n",
    "    # aquí se hacen operaciones por filas en la matriz para conseguir una triangular\n",
    "    for i in range(n):\n",
    "        if Ab[i,i]==0: sys.exit('Aparece una división por cero, el proceso no puede concluirse')\n",
    "        else:\n",
    "            for j in range(i+1,n):\n",
    "                m=Ab[j,i]/Ab[i,i]\n",
    "                Ab[j]=Ab[j]-m*Ab[i]\n",
    "                    \n",
    "    # ahora se resuelve el sistema por sustitución regresiva\n",
    "    AG=Ab[:,:n]\n",
    "    bG=Ab[:,n].transpose()\n",
    "    x=sust_regresiva(AG,bG)\n",
    "                \n",
    "    return x"
   ]
  },
  {
   "cell_type": "code",
   "execution_count": null,
   "id": "c63cbc63",
   "metadata": {},
   "outputs": [],
   "source": [
    "def Gauss_pivotaje_parcial(A,b):\n",
    "    \"\"\"\n",
    "    Esta función resuelve el sistema Ax=b mediante el método de Gauss. \n",
    "    A y b deben ser arrays de numpy.\n",
    "    \"\"\"\n",
    "    A=A.astype(float)     # cambiamos los elementos a tipo flotante\n",
    "    bb=(np.array([b]).transpose()).astype(float) \n",
    "    Ab=np.concatenate((A,bb),axis=1)\n",
    "    n=np.size(b)\n",
    "    x=np.zeros(n)         # almacenaremos aquí la solución del sistema\n",
    "    \n",
    "    for i in range (0,n-1):\n",
    "        columna = Ab[:,i].copy()\n",
    "        pos_fila_max = Pos_fila_max (columna[i:]) #calculamos en qué fila está el máximo\n",
    "        \n",
    "        if columna[i] != Pivote_max(columna): #comparamos el elemento de mayor valor con el de la posición i de la columna, \n",
    "                                              #e intercambiamos si es necesario\n",
    "            aux = Ab[i].copy()\n",
    "            Ab[i] = Ab[pos_fila_max].copy()\n",
    "            Ab[pos_fila_max] = aux.copy()\n",
    "            \n",
    "    # aquí se hacen operaciones por filas en la matriz para conseguir una triangular\n",
    "    for i in range(n):\n",
    "        for j in range(i+1,n):\n",
    "            m=Ab[j,i]/Ab[i,i]\n",
    "            Ab[j][i+1:]=Ab[j][i+1:]-m*Ab[i][i+1:]\n",
    "                    \n",
    "    # ahora se resuelve el sistema por sustitución regresiva\n",
    "    x[n-1]=Ab[n-1,n]/Ab[n-1,n-1]\n",
    "    for i in range(n-2,-1,-1):\n",
    "        x[i]=(Ab[i,n]-np.dot(Ab[i][i+1:n],x[i+1:n]))/Ab[i,i]\n",
    "                \n",
    "    return x"
   ]
  },
  {
   "cell_type": "code",
   "execution_count": null,
   "id": "f8f9523e",
   "metadata": {},
   "outputs": [],
   "source": [
    "A=np.array([[2,4,1],[1,3,5],[-1,0,1]])\n",
    "b=np.array([2,-5,1])\n",
    "print(\"x= \",Gauss_pivotaje_parcial(A,b))\n",
    "np.linalg.solve(A,b)"
   ]
  },
  {
   "cell_type": "code",
   "execution_count": null,
   "id": "f235d070",
   "metadata": {},
   "outputs": [],
   "source": []
  },
  {
   "cell_type": "markdown",
   "id": "0bfe0aef",
   "metadata": {},
   "source": [
    "# PRÁCTICA 2: Factorización de Cholesky"
   ]
  },
  {
   "cell_type": "markdown",
   "id": "88d7d6cc",
   "metadata": {},
   "source": [
    "**Ejercicio 1:** Utilizando la descomposición LU de esta práctica y las sustituciones progresiva y regresiva de la práctica anterior, resuelve el sistema  𝐴𝑥=𝑏  donde 𝐴=([1,4,1],[1,3,5],[-2,0,1])  b=(2,−5,1)"
   ]
  },
  {
   "cell_type": "markdown",
   "id": "36e8b2c0",
   "metadata": {},
   "source": [
    "## Funciones"
   ]
  },
  {
   "cell_type": "code",
   "execution_count": null,
   "id": "d49dcf5b",
   "metadata": {},
   "outputs": [],
   "source": [
    "def LU_desc(A):\n",
    "    \"\"\"\n",
    "    Esta función calcula la descomposición LU de Doolittle de una matriz A sin intercambio de filas.\n",
    "    A debe ser un array de Numpy.\n",
    "    \"\"\"\n",
    "    n=np.shape(A)[1]\n",
    "    U=np.zeros([n,n])\n",
    "    L=np.eye(n)\n",
    "    \n",
    "    for k in range(n-1):\n",
    "        U[k,k]=A[k,k]-np.dot(L[k,:k],U[:k,k])\n",
    "        for j in range(k+1,n):\n",
    "            U[k,j]=A[k,j]-np.dot(L[k,:k],U[:k,j])\n",
    "        for j in range(k+1):\n",
    "            L[k+1,j]=(A[k+1,j]-np.dot(L[k+1,:j],U[:j,j]))/U[j,j]\n",
    "    U[n-1,n-1]=A[n-1,n-1]-np.dot(L[n-1,:n-1],U[:n-1,n-1])\n",
    "    return L, U"
   ]
  },
  {
   "cell_type": "markdown",
   "id": "c577f198",
   "metadata": {},
   "source": [
    "## Programa Principal"
   ]
  },
  {
   "cell_type": "code",
   "execution_count": null,
   "id": "dfebf7d7",
   "metadata": {},
   "outputs": [],
   "source": [
    "# Ahora resolvemos dos sistemas. Dado Ax=b, como A=L*U, se tiene que (LU)x=b.Sea ahora U*x=y. Resolvemos Ly=b, y luego el \n",
    "#anterior.\n",
    "\n",
    "A=np.array([[1,4,1],[1,3,5],[-2,0,1]])\n",
    "b=np.array([2,-5,1])\n",
    "\n",
    "L,U=LU_desc(A)\n",
    "y= sust_progresiva(L,b)\n",
    "x= sust_regresiva(U,y)\n",
    "print(\"x=\",x)\n",
    "\n",
    "np.linalg.solve(A,b)"
   ]
  },
  {
   "cell_type": "code",
   "execution_count": null,
   "id": "daf71133",
   "metadata": {},
   "outputs": [],
   "source": []
  },
  {
   "cell_type": "markdown",
   "id": "58b94278",
   "metadata": {},
   "source": [
    "**Ejercicio 2:** Define una función que resuelva un sistema de ecuaciones lineales mediante la factorización de Cholesky. Comprueba su funcionamiento para intentar resolver el sistema  𝐴𝑥=𝑏  donde  𝑏=(2,−5,1)  en los casos de los ejemplos anteriores."
   ]
  },
  {
   "cell_type": "markdown",
   "id": "145aa20a",
   "metadata": {},
   "source": [
    "## Funciones"
   ]
  },
  {
   "cell_type": "code",
   "execution_count": null,
   "id": "99537539",
   "metadata": {},
   "outputs": [],
   "source": [
    "def Fact_Cholesky(A):\n",
    "    \"\"\"\n",
    "    Esta función realiza la factorización de Cholesky de una matriz simétrica definida positiva.\n",
    "    \"\"\"\n",
    "    A=A.astype(float)\n",
    "    n=np.shape(A)[1]\n",
    "    L_t=np.zeros([n,n])\n",
    "    L=np.eye(n)\n",
    "    \n",
    "    for k in range(n):\n",
    "        L[k,k]=np.sqrt(A[k,k]-np.dot(L[k,:k],L_t[:k,k]))\n",
    "        L_t[k,k]=L[k,k]\n",
    "        for j in range(k+1,n):\n",
    "            L[j,k]=(A[k,j]-np.dot(L[k,:k],L_t[:k,j]))/L[k,k]\n",
    "            L_t[k,j]=L[j,k]\n",
    "    \n",
    "    return L, L_t\n"
   ]
  },
  {
   "cell_type": "markdown",
   "id": "fed3c492",
   "metadata": {},
   "source": [
    "## Programa Principal"
   ]
  },
  {
   "cell_type": "code",
   "execution_count": null,
   "id": "83213935",
   "metadata": {},
   "outputs": [],
   "source": [
    "b= np.array([2,-5,1])\n",
    "\n",
    "A_1=np.array([[2,4,1],[4,10,1],[1,1,5]])\n",
    "L_1,L_t_1= Fact_Cholesky(A_1)\n",
    "print (\"L_1=\\n\",L_1,\"\\n\\n\",\"L_t_1=\\n\",L_t_1,\"\\n\")\n",
    "#print (np.linalg.cholesky(A_1))\n",
    "\n",
    "\n",
    "A_2=np.array([[2,4,1],[4,0,1],[1,1,5]]) #No es posible ya que A_2 no es definida positiva.\n",
    "L_2,L_t_2= Fact_Cholesky(A_2)\n",
    "print (\"L_2=\\n\",L_2,\"\\n\\n\",\"L_t_2=\\n\",L_t_2,\"\\n\\n\")\n",
    "\n",
    "# Resolvemos los sistemas considerando ahora que A=L*L_t.\n",
    "y_1= sust_progresiva(L_1,b)\n",
    "x_1= sust_regresiva(L_t_1,y_1)\n",
    "print(\"x_1=\",x_1)\n",
    "print(np.linalg.solve(A_1,b),\"\\n\\n\")\n",
    "\n",
    "y_2= sust_progresiva(L_2,b)\n",
    "x_2= sust_regresiva(L_t_2,y_2)\n",
    "print(\"x_2=\",x_2)"
   ]
  },
  {
   "cell_type": "code",
   "execution_count": null,
   "id": "5696b9ff",
   "metadata": {},
   "outputs": [],
   "source": []
  },
  {
   "cell_type": "markdown",
   "id": "01a928b4",
   "metadata": {},
   "source": [
    "# Práctica 3: Métodos iterativos\n"
   ]
  },
  {
   "cell_type": "markdown",
   "id": "27581119",
   "metadata": {},
   "source": [
    "**Ejercicio 1:** Modifica el código anterior para resolver de forma aproximada un sistema de ecuaciones lineales utilizando el método de **Gauss-Seidel**. Comprueba el funcionamiento del programa con el sistema $A x=b$ donde\n",
    "$$A=\\left(\\begin{array}{rrr}\n",
    "10 & 4 & 1 \\\\\n",
    "4 & 10 & 1 \\\\\n",
    "1 & 1 & 5 \\end{array} \\right) \\qquad b=\\left(15,15,7 \\right) $$ "
   ]
  },
  {
   "cell_type": "markdown",
   "id": "d16cdf6c",
   "metadata": {},
   "source": [
    "## Funciones"
   ]
  },
  {
   "cell_type": "code",
   "execution_count": null,
   "id": "7f0eb8f4",
   "metadata": {},
   "outputs": [],
   "source": [
    "def Jacobi(A, b, maxiter=1000, tol=10**(-10)):\n",
    "    \"\"\"\n",
    "    Esta función resuelve el sistema Ax=b de forma aproximada mediante el método iterativo de Jacobi empezando las iteraciones\n",
    "    en el vector nulo.\n",
    "    Las matrices A y b deben ser arrays de NumPy.\n",
    "    El número máximo de iteraciones se puede introducir por el usuario y es 1000 por defecto.\n",
    "    La tolerancia también se puede introducir por el usuario y es 10^(-10) por defecto.\n",
    "    El método se interrumpe cuando se alcanza el número máximo de iteraciones o cuando la tolerancia es menor que la indicada.\n",
    "    \n",
    "    \"\"\"\n",
    "    \n",
    "    n=np.shape(A)[1] # se calcula la dimensión de A\n",
    "    d=np.diag(A)     # obtenemos un array con los elementos de la diagonal de la matriz A\n",
    "    D=np.diag(d)     # creamos un array diagonal con los elementos de d\n",
    "    R=A-D            # matriz con los elementos que no están en la diagonal\n",
    "    x=np.zeros(n)\n",
    "    y=np.zeros(n)\n",
    "          \n",
    "    if np.prod(d)==0:\n",
    "        print('Hay elementos nulos en la diagonal de la matriz')\n",
    "    else:\n",
    "        k=1\n",
    "        er=1\n",
    "        nx=1\n",
    "        while (er>tol*nx and k<maxiter):\n",
    "            nx=np.linalg.norm(x,1)        \n",
    "            y=(b - np.dot(R,x)) / d       # aplicamos una iteración del método de Jacobi obteniendo un vector y\n",
    "            er=np.linalg.norm(y-x,1)      # calculamos la norma de la diferencia entre y y el resultado de la iteración anterior        \n",
    "            x=y\n",
    "           # print('Iteración k=', k, '  x^(k)= ', x ) # descomentar si se quieren ver las iteraciones.\n",
    "            k+=1\n",
    "        return x"
   ]
  },
  {
   "cell_type": "code",
   "execution_count": null,
   "id": "b2979e2b",
   "metadata": {},
   "outputs": [],
   "source": [
    "def Gauss_Seidel(A, b, maxiter=1000, tol=10**(-10)):\n",
    "    \"\"\"\n",
    "    Esta función resuelve el sistema Ax=b de forma aproximada mediante el método iterativo de Jacobi empezando las iteraciones\n",
    "    en el vector nulo.\n",
    "    Las matrices A y b deben ser arrays de NumPy.\n",
    "    El número máximo de iteraciones se puede introducir por el usuario y es 1000 por defecto.\n",
    "    La tolerancia también se puede introducir por el usuario y es 10^(-10) por defecto.\n",
    "    El método se interrumpe cuando se alcanza el número máximo de iteraciones o cuando la tolerancia es menor que la indicada.\n",
    "    \n",
    "    \"\"\"\n",
    "    \n",
    "    n=np.shape(A)[1] # se calcula la dimensión de A\n",
    "    x=np.zeros(n)\n",
    "    y=np.zeros(n)\n",
    "          \n",
    "    if np.prod(d)==0:\n",
    "        print('Hay elementos nulos en la diagonal de la matriz')\n",
    "    else:\n",
    "        k=1\n",
    "        er=1\n",
    "        nx=1\n",
    "        while (er>tol*nx and k<maxiter):\n",
    "            nx=np.linalg.norm(x,1)        \n",
    "            for i in range(n):\n",
    "                y[i] = (b[i] - np.dot(A[i,:i],y[:i]) - np.dot(A[i,i+1:],y[i+1:]) )/A[i,i]  \n",
    "            er=np.linalg.norm(y-x,1)   # calculamos la norma de la diferencia entre y y el resultado de la iteración anterior        \n",
    "            x=np.copy(y)\n",
    "           # print('Iteración k=', k, '  x^(k)= ', x ) # descomentar si se quieren ver las iteraciones.\n",
    "            k+=1\n",
    "        return x"
   ]
  },
  {
   "cell_type": "markdown",
   "id": "de839fce",
   "metadata": {},
   "source": [
    "## Programa Principal"
   ]
  },
  {
   "cell_type": "code",
   "execution_count": null,
   "id": "413b4a31",
   "metadata": {},
   "outputs": [],
   "source": [
    "A= np.array([[10,4,1],[4,10,1],[1,1,5]])\n",
    "b= np.array([15,15,7])\n",
    "\n",
    "print (\"x= \", Gauss_Seidel(A,b,1000,10**(-10)))\n",
    "np.linalg.solve(A,b)"
   ]
  },
  {
   "cell_type": "code",
   "execution_count": null,
   "id": "46573ae9",
   "metadata": {},
   "outputs": [],
   "source": []
  },
  {
   "cell_type": "markdown",
   "id": "cf60ee70",
   "metadata": {},
   "source": [
    "**Ejercicio final:** Define una matriz A cuadrada de orden 20 cuyo elemento $a_{ij}=1/(i+j)$ siempre que $i\\ne j$ y $a_{ii}=20 *i^2$. Define también un vector b cuyas componentes sean todas iguales a 20. Resuelve ahora el sistema $A x=b$ con **todos los métodos** que hemos visto, es decir:\n",
    "\n",
    "- Utilizando la función `solve` del módulo `linalg` de `NumPy`. \n",
    "- Mediante los método de **Gauss** y **Gauss con pivotaje parcial**.\n",
    "- Utilizando descomposición **LU** y de **Cholesky**.\n",
    "- De forma aproximada mediante los métodos de **Jacobi** y **Gauss-Seidel** con un máximo de 10000 iteraciones y una tolerancia de 10^(-12). Si también has programado el método de relajación, inclúyelo también utilizando $w=0.8$.\n",
    "\n",
    "Comenta los resultados."
   ]
  },
  {
   "cell_type": "code",
   "execution_count": null,
   "id": "c3e922eb",
   "metadata": {},
   "outputs": [],
   "source": [
    "b=np.zeros([20])\n",
    "A=np.zeros([20,20])\n",
    "n=np.shape(A)[1]\n",
    "\n",
    "for i in range (n):\n",
    "    b[i]=20\n",
    "\n",
    "for i in range (1,n+1):\n",
    "    for j in range (1,n+1):\n",
    "        if (i==j):\n",
    "            A[i-1,j-1]=20*i*i\n",
    "            \n",
    "        else:\n",
    "            A[i-1,j-1]=1/(i+j)\n",
    "\n",
    "            \n",
    "print (\"b=\\n\",b,\"\\n\\nA=\\n\",A)"
   ]
  },
  {
   "cell_type": "code",
   "execution_count": null,
   "id": "492f7fc4",
   "metadata": {},
   "outputs": [],
   "source": [
    "#Función np.linalg.solve\n",
    "print (\"x_1=\\n\\n\",np.linalg.solve(A,b),\"\\n\\n\")\n",
    "\n",
    "#Método de Gauss.\n",
    "print(\"x_2=\\n\\n\",Gauss(A,b),\"\\n\\n\")\n",
    "\n",
    "#Método de Gauss con pivotaje parcial.\n",
    "print (\"x_3=\\n\\n\",Gauss_pivotaje_parcial(A,b),\"\\n\\n\")\n",
    "#np.linalg.det(A)\n",
    "\n",
    "#Factorización LU.\n",
    "L,U = LU_desc(A)\n",
    "print(\"x_4=\\n\\n\",sust_regresiva(U,sust_progresiva(L,b)),\"\\n\\n\")\n",
    "\n",
    "#Factorización de Cholesky.\n",
    "L,L_t=Fact_Cholesky(A)\n",
    "print(\"x_5=\\n\\n\",sust_regresiva(L_t,sust_progresiva(L,b)),\"\\n\\n\")\n",
    "\n",
    "#Método de Jacobi.\n",
    "print (\"x_6=\\n\\n\", Jacobi(A,b,10000,10**(-12)),\"\\n\\n\")\n",
    "\n",
    "#Método de Gauss-Seidel.\n",
    "print (\"x_7=\\n\\n\", Gauss_Seidel(A,b,10000,10**(-12)),\"\\n\\n\")"
   ]
  },
  {
   "cell_type": "markdown",
   "id": "2be3bd48",
   "metadata": {},
   "source": [
    "## Comentario final"
   ]
  },
  {
   "cell_type": "markdown",
   "id": "2d27df95",
   "metadata": {},
   "source": [
    "Vemos que todos los métodos funcionan para resolver el sistema de ecuaciones Ax=b.\n",
    "\n",
    " - La función np.linalg.solve() consigue resolverlo al ser compatible determinado.\n",
    " - El método de Gauss no presenta problemas al no encontrar ningún 0 en algún punto de la resolución que impida la eliminación de elementos inferiores al pivote. Es decir, no es necesario el intercambio de filas.\n",
    " - Por la razón anterior, el método de Gauss con pivotaje parcial o intercambio de filas también es adecuado para la resolución, aunque condición necesaria y suficiente es que el determinante de la matriz de coeficientes sea distinto de 0.\n",
    " - El método de resolución por factorización LU variante Doolittle es posible debido a que todos los menores principales de la matriz de coeficientes son no nulos, además de ser simétrica y definida positiva.\n",
    " - El método de resolución por factorización de Cholesky es posible debido a que la matriz es simétrica y definida positiva.\n",
    " - El método de Jacobi es convergente para esta matriz, aunque la convergencia no estaba asegurada ya que la matriz de coeficientes no es estrictamente diagonal dominante.\n",
    " - El hecho de que la matriz de coeficientes sea simétrica y definida positiva implica que el método de Gauss-Seidel sea convergente.\n",
    " "
   ]
  },
  {
   "cell_type": "code",
   "execution_count": null,
   "id": "1444c8ef",
   "metadata": {},
   "outputs": [],
   "source": []
  }
 ],
 "metadata": {
  "kernelspec": {
   "display_name": "Python 3 (ipykernel)",
   "language": "python",
   "name": "python3"
  },
  "language_info": {
   "codemirror_mode": {
    "name": "ipython",
    "version": 3
   },
   "file_extension": ".py",
   "mimetype": "text/x-python",
   "name": "python",
   "nbconvert_exporter": "python",
   "pygments_lexer": "ipython3",
   "version": "3.9.7"
  }
 },
 "nbformat": 4,
 "nbformat_minor": 5
}
