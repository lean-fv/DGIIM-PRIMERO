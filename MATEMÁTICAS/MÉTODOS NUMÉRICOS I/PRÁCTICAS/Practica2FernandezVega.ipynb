{
 "cells": [
  {
   "cell_type": "markdown",
   "id": "acb4ab71",
   "metadata": {},
   "source": [
    "# PRÁCTICA 2: FACTORIZACIÓN DE CHOLESKY \n",
    "## Leandro Jorge Fernández Vega"
   ]
  },
  {
   "cell_type": "code",
   "execution_count": 19,
   "id": "96bc6cba",
   "metadata": {},
   "outputs": [],
   "source": [
    "import numpy as np"
   ]
  },
  {
   "cell_type": "markdown",
   "id": "f6f71d6e",
   "metadata": {},
   "source": [
    "# Funciones"
   ]
  },
  {
   "cell_type": "code",
   "execution_count": 24,
   "id": "65a3d037",
   "metadata": {},
   "outputs": [],
   "source": [
    "def LU_desc(A):\n",
    "    \"\"\"\n",
    "    Esta función calcula la descomposición LU de Doolittle de una matriz A sin intercambio de filas.\n",
    "    A debe ser un array de Numpy.\n",
    "    \"\"\"\n",
    "    n=np.shape(A)[1]\n",
    "    U=np.zeros([n,n])\n",
    "    L=np.eye(n)\n",
    "    \n",
    "    for k in range(n-1):\n",
    "        U[k,k]=A[k,k]-np.dot(L[k,:k],U[:k,k])\n",
    "        for j in range(k+1,n):\n",
    "            U[k,j]=A[k,j]-np.dot(L[k,:k],U[:k,j])\n",
    "        for j in range(k+1):\n",
    "            L[k+1,j]=(A[k+1,j]-np.dot(L[k+1,:j],U[:j,j]))/U[j,j]\n",
    "    U[n-1,n-1]=A[n-1,n-1]-np.dot(L[n-1,:n-1],U[:n-1,n-1])\n",
    "    return L, U"
   ]
  },
  {
   "cell_type": "code",
   "execution_count": 25,
   "id": "5a152d89",
   "metadata": {},
   "outputs": [],
   "source": [
    "def Fact_Cholesky(n,A):\n",
    "    \"\"\"\n",
    "    Esta función realiza la factorización de Cholesky de una matriz simétrica definida positiva.\n",
    "    \"\"\"\n",
    "\n",
    "    n=np.shape(A)[1]\n",
    "    L_t=np.zeros([n,n])\n",
    "    L=np.eye(n)\n",
    "    \n",
    "    for k in range(n):\n",
    "        L[k,k]=A[k,k]-np.dot(L[k,:k],L[:k,k])\n",
    "        \n",
    "        for j in range(k+1,n):\n",
    "            L[j,k]=A[j,k]-np.dot(L[k,:k],L[:k,j])/L[k,k]\n",
    "    \n",
    "    L_t = np.transpose(L)\n",
    "    return L, L_t\n"
   ]
  },
  {
   "cell_type": "code",
   "execution_count": 26,
   "id": "616a9954",
   "metadata": {},
   "outputs": [],
   "source": [
    "A_1=np.array([[2,4,1],[4,10,1],[1,1,5]])\n",
    "A_2=np.array([[2,4,1],[4,0,1],[1,1,5]])"
   ]
  },
  {
   "cell_type": "code",
   "execution_count": 27,
   "id": "f0097e59",
   "metadata": {},
   "outputs": [
    {
     "name": "stdout",
     "output_type": "stream",
     "text": [
      "(array([[ 2.,  0.,  0.],\n",
      "       [ 4., 10.,  0.],\n",
      "       [ 1.,  1.,  5.]]), array([[ 2.,  4.,  1.],\n",
      "       [ 0., 10.,  1.],\n",
      "       [ 0.,  0.,  5.]]))\n"
     ]
    }
   ],
   "source": [
    "print (Fact_Cholesky(3,A_1))"
   ]
  },
  {
   "cell_type": "code",
   "execution_count": null,
   "id": "9546b31d",
   "metadata": {},
   "outputs": [],
   "source": []
  }
 ],
 "metadata": {
  "kernelspec": {
   "display_name": "Python 3 (ipykernel)",
   "language": "python",
   "name": "python3"
  },
  "language_info": {
   "codemirror_mode": {
    "name": "ipython",
    "version": 3
   },
   "file_extension": ".py",
   "mimetype": "text/x-python",
   "name": "python",
   "nbconvert_exporter": "python",
   "pygments_lexer": "ipython3",
   "version": "3.9.7"
  }
 },
 "nbformat": 4,
 "nbformat_minor": 5
}
