{
 "cells": [
  {
   "cell_type": "markdown",
   "id": "241266c2",
   "metadata": {},
   "source": [
    "# Primeros pasos con los Notebooks de IPython"
   ]
  },
  {
   "cell_type": "markdown",
   "id": "0a7899a2",
   "metadata": {},
   "source": [
    "En esta primera práctica vamos a ver algunas cuestiones básicas de Python que usaremos en el resto de las prácticas. En primer lugar observa que el texto está organizado en *celdillas interactivas*. Para añadir una celdilla nueva pincha en Insert y selecciona si la quieres añadir encima o debajo de la celdilla en la que está situado el cursor. La celdilla que se añade será una celdilla de tipo *Code* mientras que esta es de tipo *Markdown*. Para ejecutar una celdilla debes pulsar las teclas Shift+Enter."
   ]
  },
  {
   "cell_type": "code",
   "execution_count": null,
   "id": "377e12af",
   "metadata": {},
   "outputs": [],
   "source": [
    "2+3"
   ]
  },
  {
   "cell_type": "markdown",
   "id": "6a863e69",
   "metadata": {},
   "source": [
    "Las celdillas de código están numeradas como celdillas de entrada (con In[]) y sus correspondientes celdillas de salida (Out[])."
   ]
  },
  {
   "cell_type": "code",
   "execution_count": null,
   "id": "6452b7f9",
   "metadata": {},
   "outputs": [],
   "source": [
    "5*8"
   ]
  },
  {
   "cell_type": "markdown",
   "id": "3e757d84",
   "metadata": {},
   "source": [
    "En las celdillas de texto podemos escribir en *cursiva*, en **negrita** o ~~tachado~~ entre otros."
   ]
  },
  {
   "cell_type": "markdown",
   "id": "46674edf",
   "metadata": {},
   "source": [
    "## Variables y tipos de objetos"
   ]
  },
  {
   "cell_type": "markdown",
   "id": "cc2e6263",
   "metadata": {},
   "source": [
    "### Tipos fundamentales"
   ]
  },
  {
   "cell_type": "markdown",
   "id": "c94a2742",
   "metadata": {},
   "source": [
    "La asignación de variables se hace utilizando el signo `=`. El tipado de variables es dinámico por lo que no hay que especificar el tipo de variable cuando la creamos."
   ]
  },
  {
   "cell_type": "code",
   "execution_count": null,
   "id": "0a16045b",
   "metadata": {},
   "outputs": [],
   "source": [
    "a=3"
   ]
  },
  {
   "cell_type": "code",
   "execution_count": null,
   "id": "8f2b1d17",
   "metadata": {},
   "outputs": [],
   "source": [
    "type(a)"
   ]
  },
  {
   "cell_type": "code",
   "execution_count": null,
   "id": "a584d3fe",
   "metadata": {},
   "outputs": [],
   "source": [
    "print(a)"
   ]
  },
  {
   "cell_type": "code",
   "execution_count": null,
   "id": "fc5cd87f",
   "metadata": {},
   "outputs": [],
   "source": [
    "a=a+3"
   ]
  },
  {
   "cell_type": "code",
   "execution_count": null,
   "id": "8080eee8",
   "metadata": {},
   "outputs": [],
   "source": [
    "a"
   ]
  },
  {
   "cell_type": "code",
   "execution_count": null,
   "id": "47d4948e",
   "metadata": {},
   "outputs": [],
   "source": [
    "b=12.5"
   ]
  },
  {
   "cell_type": "code",
   "execution_count": null,
   "id": "adf051c6",
   "metadata": {},
   "outputs": [],
   "source": [
    "type(b)"
   ]
  },
  {
   "cell_type": "code",
   "execution_count": null,
   "id": "cd9858d9",
   "metadata": {},
   "outputs": [],
   "source": [
    "c= 2 + 3j #la unidad imaginaria se representa por j"
   ]
  },
  {
   "cell_type": "code",
   "execution_count": null,
   "id": "8fb55953",
   "metadata": {},
   "outputs": [],
   "source": [
    "type(c)"
   ]
  },
  {
   "cell_type": "code",
   "execution_count": null,
   "id": "912ff917",
   "metadata": {},
   "outputs": [],
   "source": [
    "c.real"
   ]
  },
  {
   "cell_type": "code",
   "execution_count": null,
   "id": "734dbb71",
   "metadata": {},
   "outputs": [],
   "source": [
    "c.imag"
   ]
  },
  {
   "cell_type": "code",
   "execution_count": null,
   "id": "21d05d7d",
   "metadata": {},
   "outputs": [],
   "source": [
    "type(True) #Datos de tipo lógico"
   ]
  },
  {
   "cell_type": "markdown",
   "id": "d03f9f39",
   "metadata": {},
   "source": [
    "Cuando escribimos por ejemplo print(2), Python hace lo siguiente:\n",
    "- Crea un objeto entero y le asigna una identidad (número entero único).\n",
    "- Guarda en ese objeto el valor 2.\n",
    "- Llama a la función `print()` que lo muestra en pantalla."
   ]
  },
  {
   "cell_type": "code",
   "execution_count": null,
   "id": "ed88fa60",
   "metadata": {},
   "outputs": [],
   "source": [
    "print(2, id(2), type(2))"
   ]
  },
  {
   "cell_type": "markdown",
   "id": "6fd31f8d",
   "metadata": {},
   "source": [
    "Los identificadores (nombres) que usamos para referirnos a los objetos\n",
    "deben cumplir las cuatro siguientes condiciones:\n",
    "- No contener espacios en blanco.\n",
    "- Estar formados por letras, números o el carácter de guion bajo (_).\n",
    "- No comenzar por un número.\n",
    "- No pueden coincidir con palabras reservadas (las que tienen un significado concreto, ya definido, en el lenguaje):\n",
    "\n",
    "    False, assert, continue, except, if, nonlocal, return, None, async, def, finally, import, not, try,\n",
    "    True, await, del, for, in, or, while, and, break, elif, from, is, pass, with, as, class, else, global, lambda, raise, yield"
   ]
  },
  {
   "cell_type": "markdown",
   "id": "e0535139",
   "metadata": {},
   "source": [
    "### Operadores aritméticos"
   ]
  },
  {
   "cell_type": "markdown",
   "id": "48fa44ab",
   "metadata": {},
   "source": [
    "Los operadores aritméticos en Python son: `+`, `-`, `*`, `**`, `/`, `//`,`%`. Veamos unos ejemplos:"
   ]
  },
  {
   "cell_type": "code",
   "execution_count": null,
   "id": "1243952b",
   "metadata": {},
   "outputs": [],
   "source": [
    "3+2,5*8.2"
   ]
  },
  {
   "cell_type": "code",
   "execution_count": null,
   "id": "a2cdde04",
   "metadata": {},
   "outputs": [],
   "source": [
    "3**2 # potencia"
   ]
  },
  {
   "cell_type": "code",
   "execution_count": null,
   "id": "53a86bba",
   "metadata": {},
   "outputs": [],
   "source": [
    "b/a"
   ]
  },
  {
   "cell_type": "code",
   "execution_count": null,
   "id": "680f56d2",
   "metadata": {},
   "outputs": [],
   "source": [
    "10//3 # división entera"
   ]
  },
  {
   "cell_type": "code",
   "execution_count": null,
   "id": "d7abc991",
   "metadata": {},
   "outputs": [],
   "source": [
    "10%3 # módulo, resto de la división entera"
   ]
  },
  {
   "cell_type": "markdown",
   "id": "c741258e",
   "metadata": {},
   "source": [
    "Estos operadores aritméticos se pueden combinar con una asignación"
   ]
  },
  {
   "cell_type": "code",
   "execution_count": null,
   "id": "d63e730d",
   "metadata": {},
   "outputs": [],
   "source": [
    "a=5"
   ]
  },
  {
   "cell_type": "code",
   "execution_count": null,
   "id": "88647713",
   "metadata": {},
   "outputs": [],
   "source": [
    "a+=1 # hace a=a+1"
   ]
  },
  {
   "cell_type": "code",
   "execution_count": null,
   "id": "9ffcc9fd",
   "metadata": {},
   "outputs": [],
   "source": [
    "a"
   ]
  },
  {
   "cell_type": "code",
   "execution_count": null,
   "id": "22ef41ed",
   "metadata": {},
   "outputs": [],
   "source": [
    "b=7"
   ]
  },
  {
   "cell_type": "code",
   "execution_count": null,
   "id": "f09aafb3",
   "metadata": {},
   "outputs": [],
   "source": [
    "b/=2 # hace b=b/2\n",
    "print(b)"
   ]
  },
  {
   "cell_type": "markdown",
   "id": "dd68408e",
   "metadata": {},
   "source": [
    "Los operadores booleanos serán `and`, `not`, `or`.\n",
    "Los operadores de comparación `>`, `<`, `>=` (mayor, menor, mayor o igual), `<=` (menor o igual), `==` igualdad, `is` identidad."
   ]
  },
  {
   "cell_type": "code",
   "execution_count": null,
   "id": "1fcce75e",
   "metadata": {},
   "outputs": [],
   "source": [
    "2 < 5, 2 > 5, 2 <= 5 "
   ]
  },
  {
   "cell_type": "code",
   "execution_count": null,
   "id": "96d9984a",
   "metadata": {},
   "outputs": [],
   "source": [
    "2 < 5 and 2 > 3"
   ]
  },
  {
   "cell_type": "markdown",
   "id": "09a8b2a0",
   "metadata": {},
   "source": [
    "### Tipos compuestos: strings y listas"
   ]
  },
  {
   "cell_type": "markdown",
   "id": "4861aa55",
   "metadata": {},
   "source": [
    "Las cadenas de caracteres (o **strings**) se utilizan para mensajes de texto. Estas cadenas de caracteres se escriben entre `' '` o entre `'' ''`"
   ]
  },
  {
   "cell_type": "code",
   "execution_count": null,
   "id": "60423f70",
   "metadata": {},
   "outputs": [],
   "source": [
    "st='Métodos Numéricos I'"
   ]
  },
  {
   "cell_type": "code",
   "execution_count": null,
   "id": "dd631491",
   "metadata": {},
   "outputs": [],
   "source": [
    "type(st)"
   ]
  },
  {
   "cell_type": "code",
   "execution_count": null,
   "id": "0405d27d",
   "metadata": {},
   "outputs": [],
   "source": [
    "st[0] # ¡Ojo! Se empieza a contar en 0"
   ]
  },
  {
   "cell_type": "code",
   "execution_count": null,
   "id": "88e6046d",
   "metadata": {},
   "outputs": [],
   "source": [
    "st[1:4]"
   ]
  },
  {
   "cell_type": "code",
   "execution_count": null,
   "id": "3f54d434",
   "metadata": {},
   "outputs": [],
   "source": [
    "st[:4]"
   ]
  },
  {
   "cell_type": "code",
   "execution_count": null,
   "id": "ec02249b",
   "metadata": {},
   "outputs": [],
   "source": [
    "st[1:]"
   ]
  },
  {
   "cell_type": "code",
   "execution_count": null,
   "id": "d6c9e569",
   "metadata": {},
   "outputs": [],
   "source": [
    "st[0:10:2] # el 2 corresponde al paso de salto"
   ]
  },
  {
   "cell_type": "code",
   "execution_count": null,
   "id": "525e57cc",
   "metadata": {},
   "outputs": [],
   "source": [
    "len(st)"
   ]
  },
  {
   "cell_type": "code",
   "execution_count": null,
   "id": "4de0b4b9",
   "metadata": {},
   "outputs": [],
   "source": [
    "print(2,'Hola',False,3.1416) # la sentencia print convierte todos los elementos en strings"
   ]
  },
  {
   "cell_type": "code",
   "execution_count": null,
   "id": "40072c5a",
   "metadata": {},
   "outputs": [],
   "source": [
    "# Se puede dar formato a un string tipo lenguaje C\n",
    "s = \"valor1 = %.3f. valor2 = %d\" % (3.1415, 5.3)\n",
    "print(s)"
   ]
  },
  {
   "cell_type": "markdown",
   "id": "62ab3997",
   "metadata": {},
   "source": [
    "Las **listas** tienen un comportamiento similar a los strings pero sirven para almacenar datos de distinto tipo. Para crear una lista se utilizan corchetes `[ ]`"
   ]
  },
  {
   "cell_type": "code",
   "execution_count": null,
   "id": "784c0935",
   "metadata": {},
   "outputs": [],
   "source": [
    "l=[1,3,5,7]"
   ]
  },
  {
   "cell_type": "code",
   "execution_count": null,
   "id": "2cb35756",
   "metadata": {},
   "outputs": [],
   "source": [
    "print(type(l))\n",
    "print(l)"
   ]
  },
  {
   "cell_type": "code",
   "execution_count": null,
   "id": "8ba7b68d",
   "metadata": {},
   "outputs": [],
   "source": [
    "l[0]"
   ]
  },
  {
   "cell_type": "code",
   "execution_count": null,
   "id": "26e2e2ff",
   "metadata": {},
   "outputs": [],
   "source": [
    "l[1:]"
   ]
  },
  {
   "cell_type": "code",
   "execution_count": null,
   "id": "c4e94838",
   "metadata": {},
   "outputs": [],
   "source": [
    "l[:2]"
   ]
  },
  {
   "cell_type": "code",
   "execution_count": null,
   "id": "97166c48",
   "metadata": {},
   "outputs": [],
   "source": [
    "l[::2] # paso 2"
   ]
  },
  {
   "cell_type": "code",
   "execution_count": null,
   "id": "a99fa6d7",
   "metadata": {},
   "outputs": [],
   "source": [
    "lio=[1, [4,3,2], 'Feliz']\n",
    "lio"
   ]
  },
  {
   "cell_type": "markdown",
   "id": "bdd04cbf",
   "metadata": {},
   "source": [
    "Se pueden crear listas utilizando funciones creadas para ello como la función `range`. En realidad, se genera un iterador que puede convertirse en lista utilizando la orden `list`. "
   ]
  },
  {
   "cell_type": "code",
   "execution_count": null,
   "id": "9d0e5295",
   "metadata": {},
   "outputs": [],
   "source": [
    "inicio=4\n",
    "fin=20\n",
    "paso=2\n",
    "range(inicio, fin, paso)"
   ]
  },
  {
   "cell_type": "code",
   "execution_count": null,
   "id": "86e82c6e",
   "metadata": {},
   "outputs": [],
   "source": [
    "list(range(inicio, fin, paso))"
   ]
  },
  {
   "cell_type": "markdown",
   "id": "29fdaebc",
   "metadata": {},
   "source": [
    "Se pueden añadir elementos a una lista usando `append`"
   ]
  },
  {
   "cell_type": "code",
   "execution_count": null,
   "id": "2b275f3c",
   "metadata": {},
   "outputs": [],
   "source": [
    "mi_lista=[] # se crea una lista vacía\n",
    "mi_lista.append('L')\n",
    "mi_lista.append('a')\n",
    "mi_lista.append('d')\n",
    "mi_lista"
   ]
  },
  {
   "cell_type": "code",
   "execution_count": null,
   "id": "5beba601",
   "metadata": {},
   "outputs": [],
   "source": [
    "mi_lista[1]='i' #cambia el elemento de la posición 1 de la lista por 'a'\n",
    "mi_lista"
   ]
  },
  {
   "cell_type": "code",
   "execution_count": null,
   "id": "372d81dd",
   "metadata": {},
   "outputs": [],
   "source": [
    "mi_lista.insert(1,'e') # inserta un elemento en una posición especificada \n",
    "mi_lista.insert(4,'o')\n",
    "mi_lista"
   ]
  },
  {
   "cell_type": "code",
   "execution_count": null,
   "id": "d972c209",
   "metadata": {},
   "outputs": [],
   "source": [
    "mi_lista.remove('d') # elimina un elemento de la lista\n",
    "mi_lista"
   ]
  },
  {
   "cell_type": "code",
   "execution_count": null,
   "id": "839e8f26",
   "metadata": {},
   "outputs": [],
   "source": [
    "del mi_lista[3] # elimina el elemento de la lista que está en la posición indicada\n",
    "mi_lista"
   ]
  },
  {
   "cell_type": "markdown",
   "id": "175b11fe",
   "metadata": {},
   "source": [
    "Las **tuplas** son parecidas a las listas salvo por el hecho de que son *inmutables*, es decir, no se pueden modificar una vez creadas. Se crean usando la sintáxis `(...,...,...)` o incluso sin paréntesis. "
   ]
  },
  {
   "cell_type": "code",
   "execution_count": null,
   "id": "59590dbe",
   "metadata": {},
   "outputs": [],
   "source": [
    "a = (1,2,3)\n",
    "print(a)\n",
    "print(type(a))"
   ]
  },
  {
   "cell_type": "markdown",
   "id": "b5474126",
   "metadata": {},
   "source": [
    "Se pueden utilizar a veces para asignar varias variables a la vez:"
   ]
  },
  {
   "cell_type": "code",
   "execution_count": null,
   "id": "529a4858",
   "metadata": {},
   "outputs": [],
   "source": [
    "x, y, z = a\n",
    "print(x)"
   ]
  },
  {
   "cell_type": "code",
   "execution_count": null,
   "id": "7cd1219a",
   "metadata": {},
   "outputs": [],
   "source": [
    "max(1,2,3)"
   ]
  },
  {
   "cell_type": "markdown",
   "id": "fc2a8a83",
   "metadata": {},
   "source": [
    "## Estructuras de control"
   ]
  },
  {
   "cell_type": "markdown",
   "id": "7f33c76a",
   "metadata": {},
   "source": [
    "### Condicionales: if, elif, else"
   ]
  },
  {
   "cell_type": "markdown",
   "id": "9adfed64",
   "metadata": {},
   "source": [
    "Para introducir condicionales en Python usamos `if`, `elif` (else if) y `else`:"
   ]
  },
  {
   "cell_type": "code",
   "execution_count": null,
   "id": "4ae88b54",
   "metadata": {},
   "outputs": [],
   "source": [
    "a = float(input('Dame un valor: '))\n",
    "if a<0:\n",
    "    print(a, ' es negativo')\n",
    "elif a>0:\n",
    "    print(a, ' es positivo')\n",
    "else:\n",
    "    print(a, ' es cero')"
   ]
  },
  {
   "cell_type": "markdown",
   "id": "e33f7fc3",
   "metadata": {},
   "source": [
    "**Ejercicio:** Escribe un pequeño programa que calcule el máximo entre 4 números que debe introducir el usuario."
   ]
  }
 ],
 "metadata": {
  "kernelspec": {
   "display_name": "Python 3 (ipykernel)",
   "language": "python",
   "name": "python3"
  },
  "language_info": {
   "codemirror_mode": {
    "name": "ipython",
    "version": 3
   },
   "file_extension": ".py",
   "mimetype": "text/x-python",
   "name": "python",
   "nbconvert_exporter": "python",
   "pygments_lexer": "ipython3",
   "version": "3.8.12"
  }
 },
 "nbformat": 4,
 "nbformat_minor": 5
}
