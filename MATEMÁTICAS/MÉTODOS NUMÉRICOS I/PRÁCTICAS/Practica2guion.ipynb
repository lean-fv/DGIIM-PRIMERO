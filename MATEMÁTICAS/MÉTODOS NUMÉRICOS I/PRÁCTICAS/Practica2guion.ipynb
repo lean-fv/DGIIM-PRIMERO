{
 "cells": [
  {
   "cell_type": "markdown",
   "id": "63f60502",
   "metadata": {},
   "source": [
    "# Práctica 2: Resolución de SEL. Métodos directos. Factorización LU y de Cholesky"
   ]
  },
  {
   "cell_type": "markdown",
   "id": "6fb31320",
   "metadata": {},
   "source": [
    "## Descomposición LU"
   ]
  },
  {
   "cell_type": "markdown",
   "id": "cdbbd139",
   "metadata": {},
   "source": [
    "En esta parte de la práctica veremos cómo hacer la factorización LU de una matriz en Python y la utilizaremos para resolver sistemas de ecuaciones lineales. En primer lugar, importamos la librería `NumPy`:"
   ]
  },
  {
   "cell_type": "code",
   "execution_count": 2,
   "id": "1957b8ad",
   "metadata": {},
   "outputs": [],
   "source": [
    "import numpy as np"
   ]
  },
  {
   "cell_type": "markdown",
   "id": "9bfa5258",
   "metadata": {},
   "source": [
    "Se puede calcular la descomposición LU de una matriz desde el módulo `linalg` de la librería `SciPy`. No necesitamos importar toda la librería así que importamos solamente las funciones `lu`,`lu_solve` y `lu_factor`  que vamos a necesitar."
   ]
  },
  {
   "cell_type": "code",
   "execution_count": 3,
   "id": "e0f4d034",
   "metadata": {},
   "outputs": [],
   "source": [
    "from scipy.linalg import lu, lu_solve, lu_factor"
   ]
  },
  {
   "cell_type": "code",
   "execution_count": 4,
   "id": "c0eb4959",
   "metadata": {},
   "outputs": [
    {
     "name": "stdout",
     "output_type": "stream",
     "text": [
      "P= [[1. 0. 0.]\n",
      " [0. 0. 1.]\n",
      " [0. 1. 0.]]\n",
      "L= [[ 1.   0.   0. ]\n",
      " [-0.5  1.   0. ]\n",
      " [ 0.5  0.5  1. ]]\n",
      "U= [[2.   4.   1.  ]\n",
      " [0.   2.   1.5 ]\n",
      " [0.   0.   3.75]]\n",
      "LU= [[ 2.  4.  1.]\n",
      " [-1.  0.  1.]\n",
      " [ 1.  3.  5.]]\n"
     ]
    }
   ],
   "source": [
    "A=np.array([[2,4,1],[1,3,5],[-1,0,1]])\n",
    "\n",
    "P, L, U = lu(A)\n",
    "print('P=', P)\n",
    "print('L=', L)\n",
    "print('U=', U)\n",
    "print('LU=',np.dot(L, U))"
   ]
  },
  {
   "cell_type": "markdown",
   "id": "79d7f2e0",
   "metadata": {},
   "source": [
    "Al utilizar la función `lu` se hace la descomposición LU permitiendo permutaciones de filas. La salida consiste en tres matrices, una primera matriz **P** de permutaciones (se ha permutado la fila dos con la fila 3), la matriz **L** y la matriz **U**. Si observamos la matriz **L** del resultado, vemos que se ha realizado la descomposición LU de Doolittle. Observa la diferencia en las salidas si se usa `lu`o `lu_factor`."
   ]
  },
  {
   "cell_type": "code",
   "execution_count": 5,
   "id": "f368bc31",
   "metadata": {},
   "outputs": [
    {
     "data": {
      "text/plain": [
       "(array([[1., 0., 0.],\n",
       "        [0., 0., 1.],\n",
       "        [0., 1., 0.]]),\n",
       " array([[ 1. ,  0. ,  0. ],\n",
       "        [-0.5,  1. ,  0. ],\n",
       "        [ 0.5,  0.5,  1. ]]),\n",
       " array([[2.  , 4.  , 1.  ],\n",
       "        [0.  , 2.  , 1.5 ],\n",
       "        [0.  , 0.  , 3.75]]))"
      ]
     },
     "execution_count": 5,
     "metadata": {},
     "output_type": "execute_result"
    }
   ],
   "source": [
    "A=np.array([[2,4,1],[1,3,5],[-1,0,1]])\n",
    "lu(A)"
   ]
  },
  {
   "cell_type": "code",
   "execution_count": 6,
   "id": "2c7887ad",
   "metadata": {},
   "outputs": [
    {
     "data": {
      "text/plain": [
       "(array([[ 2.  ,  4.  ,  1.  ],\n",
       "        [-0.5 ,  2.  ,  1.5 ],\n",
       "        [ 0.5 ,  0.5 ,  3.75]]),\n",
       " array([0, 2, 2], dtype=int32))"
      ]
     },
     "execution_count": 6,
     "metadata": {},
     "output_type": "execute_result"
    }
   ],
   "source": [
    "A=np.array([[2,4,1],[1,3,5],[-1,0,1]])\n",
    "lu_factor(A)"
   ]
  },
  {
   "cell_type": "markdown",
   "id": "b62b7d36",
   "metadata": {},
   "source": [
    "En este segundo ejemplo aparecen las matrices **L** y **U** *mezcladas* en una única matriz. Esta descomposición se puede usar para resolver sistemas de la siguiente forma:"
   ]
  },
  {
   "cell_type": "code",
   "execution_count": 7,
   "id": "595bdca4",
   "metadata": {},
   "outputs": [
    {
     "data": {
      "text/plain": [
       "array([-2.86666667,  2.4       , -1.86666667])"
      ]
     },
     "execution_count": 7,
     "metadata": {},
     "output_type": "execute_result"
    }
   ],
   "source": [
    "A=np.array([[2,4,1],[1,3,5],[-1,0,1]])\n",
    "b=np.array([2,-5,1])\n",
    "\n",
    "lu_solve(lu_factor(A),b)"
   ]
  },
  {
   "cell_type": "markdown",
   "id": "83132c56",
   "metadata": {},
   "source": [
    "Vamos a proceder ahora a programar nosotros la descomposición LU de Doolittle sin intercambio de filas."
   ]
  },
  {
   "cell_type": "code",
   "execution_count": 15,
   "id": "caf511ae",
   "metadata": {},
   "outputs": [],
   "source": [
    "def LU_desc(A):\n",
    "    \"\"\"\n",
    "    Esta función calcula la descomposición LU de Doolittle de una matriz A sin intercambio de filas.\n",
    "    A debe ser un array de Numpy.\n",
    "    \"\"\"\n",
    "    n=np.shape(A)[1]\n",
    "    U=np.zeros([n,n])\n",
    "    L=np.eye(n)\n",
    "    \n",
    "    for k in range(n-1):\n",
    "        U[k,k]=A[k,k]-np.dot(L[k,:k],U[:k,k])\n",
    "        for j in range(k+1,n):\n",
    "            U[k,j]=A[k,j]-np.dot(L[k,:k],U[:k,j])\n",
    "        for j in range(k+1):\n",
    "            L[k+1,j]=(A[k+1,j]-np.dot(L[k+1,:j],U[:j,j]))/U[j,j]\n",
    "    U[n-1,n-1]=A[n-1,n-1]-np.dot(L[n-1,:n-1],U[:n-1,n-1])\n",
    "    return L, U"
   ]
  },
  {
   "cell_type": "code",
   "execution_count": 16,
   "id": "28834f3f",
   "metadata": {},
   "outputs": [
    {
     "data": {
      "text/plain": [
       "(array([[ 1. ,  0. ,  0. ],\n",
       "        [-0.5,  1. ,  0. ],\n",
       "        [ 0.5,  0.5,  1. ]]),\n",
       " array([[2.  , 4.  , 1.  ],\n",
       "        [0.  , 2.  , 1.5 ],\n",
       "        [0.  , 0.  , 3.75]]))"
      ]
     },
     "execution_count": 16,
     "metadata": {},
     "output_type": "execute_result"
    }
   ],
   "source": [
    "A=np.array([[2,4,1],[-1,0,1],[1,3,5]])\n",
    "LU_desc(A)"
   ]
  },
  {
   "cell_type": "markdown",
   "id": "7c8356c1",
   "metadata": {},
   "source": [
    "**Ejercicio 1:** Utilizando la descomposición LU de esta práctica y las sustituciones progresiva y regresiva de la práctica anterior, resuelve el sistema $A x=b$ donde\n",
    "$$A=\\left(\\begin{array}{rrr}\n",
    "1 & 4 & 1 \\\\\n",
    "1 & 3 & 5 \\\\\n",
    "-2 & 0 & 1 \\end{array} \\right) \\qquad b=\\left(2,-5,1 \\right) $$ "
   ]
  },
  {
   "cell_type": "markdown",
   "id": "20d09aa0",
   "metadata": {},
   "source": [
    "## Descomposición de Cholesky"
   ]
  },
  {
   "cell_type": "markdown",
   "id": "46156fba",
   "metadata": {},
   "source": [
    "El módulo `linalg`de NumPy tiene implementada la descomposición de Cholesky. Observa los resultados que se obtienen en los dos ejemplos siguientes."
   ]
  },
  {
   "cell_type": "code",
   "execution_count": 17,
   "id": "58901bfd",
   "metadata": {},
   "outputs": [
    {
     "data": {
      "text/plain": [
       "array([[ 1.41421356,  0.        ,  0.        ],\n",
       "       [ 2.82842712,  1.41421356,  0.        ],\n",
       "       [ 0.70710678, -0.70710678,  2.        ]])"
      ]
     },
     "execution_count": 17,
     "metadata": {},
     "output_type": "execute_result"
    }
   ],
   "source": [
    "A=np.array([[2,4,1],[4,10,1],[1,1,5]])\n",
    "np.linalg.cholesky(A)"
   ]
  },
  {
   "cell_type": "code",
   "execution_count": 18,
   "id": "10774326",
   "metadata": {},
   "outputs": [
    {
     "ename": "LinAlgError",
     "evalue": "Matrix is not positive definite",
     "output_type": "error",
     "traceback": [
      "\u001b[1;31m---------------------------------------------------------------------------\u001b[0m",
      "\u001b[1;31mLinAlgError\u001b[0m                               Traceback (most recent call last)",
      "\u001b[1;32m~\\AppData\\Local\\Temp/ipykernel_1308/4176877788.py\u001b[0m in \u001b[0;36m<module>\u001b[1;34m\u001b[0m\n\u001b[0;32m      1\u001b[0m \u001b[0mA\u001b[0m\u001b[1;33m=\u001b[0m\u001b[0mnp\u001b[0m\u001b[1;33m.\u001b[0m\u001b[0marray\u001b[0m\u001b[1;33m(\u001b[0m\u001b[1;33m[\u001b[0m\u001b[1;33m[\u001b[0m\u001b[1;36m2\u001b[0m\u001b[1;33m,\u001b[0m\u001b[1;36m4\u001b[0m\u001b[1;33m,\u001b[0m\u001b[1;36m1\u001b[0m\u001b[1;33m]\u001b[0m\u001b[1;33m,\u001b[0m\u001b[1;33m[\u001b[0m\u001b[1;36m4\u001b[0m\u001b[1;33m,\u001b[0m\u001b[1;36m0\u001b[0m\u001b[1;33m,\u001b[0m\u001b[1;36m1\u001b[0m\u001b[1;33m]\u001b[0m\u001b[1;33m,\u001b[0m\u001b[1;33m[\u001b[0m\u001b[1;36m1\u001b[0m\u001b[1;33m,\u001b[0m\u001b[1;36m1\u001b[0m\u001b[1;33m,\u001b[0m\u001b[1;36m5\u001b[0m\u001b[1;33m]\u001b[0m\u001b[1;33m]\u001b[0m\u001b[1;33m)\u001b[0m\u001b[1;33m\u001b[0m\u001b[1;33m\u001b[0m\u001b[0m\n\u001b[1;32m----> 2\u001b[1;33m \u001b[0mnp\u001b[0m\u001b[1;33m.\u001b[0m\u001b[0mlinalg\u001b[0m\u001b[1;33m.\u001b[0m\u001b[0mcholesky\u001b[0m\u001b[1;33m(\u001b[0m\u001b[0mA\u001b[0m\u001b[1;33m)\u001b[0m\u001b[1;33m\u001b[0m\u001b[1;33m\u001b[0m\u001b[0m\n\u001b[0m",
      "\u001b[1;32m<__array_function__ internals>\u001b[0m in \u001b[0;36mcholesky\u001b[1;34m(*args, **kwargs)\u001b[0m\n",
      "\u001b[1;32m~\\anaconda3\\lib\\site-packages\\numpy\\linalg\\linalg.py\u001b[0m in \u001b[0;36mcholesky\u001b[1;34m(a)\u001b[0m\n\u001b[0;32m    761\u001b[0m     \u001b[0mt\u001b[0m\u001b[1;33m,\u001b[0m \u001b[0mresult_t\u001b[0m \u001b[1;33m=\u001b[0m \u001b[0m_commonType\u001b[0m\u001b[1;33m(\u001b[0m\u001b[0ma\u001b[0m\u001b[1;33m)\u001b[0m\u001b[1;33m\u001b[0m\u001b[1;33m\u001b[0m\u001b[0m\n\u001b[0;32m    762\u001b[0m     \u001b[0msignature\u001b[0m \u001b[1;33m=\u001b[0m \u001b[1;34m'D->D'\u001b[0m \u001b[1;32mif\u001b[0m \u001b[0misComplexType\u001b[0m\u001b[1;33m(\u001b[0m\u001b[0mt\u001b[0m\u001b[1;33m)\u001b[0m \u001b[1;32melse\u001b[0m \u001b[1;34m'd->d'\u001b[0m\u001b[1;33m\u001b[0m\u001b[1;33m\u001b[0m\u001b[0m\n\u001b[1;32m--> 763\u001b[1;33m     \u001b[0mr\u001b[0m \u001b[1;33m=\u001b[0m \u001b[0mgufunc\u001b[0m\u001b[1;33m(\u001b[0m\u001b[0ma\u001b[0m\u001b[1;33m,\u001b[0m \u001b[0msignature\u001b[0m\u001b[1;33m=\u001b[0m\u001b[0msignature\u001b[0m\u001b[1;33m,\u001b[0m \u001b[0mextobj\u001b[0m\u001b[1;33m=\u001b[0m\u001b[0mextobj\u001b[0m\u001b[1;33m)\u001b[0m\u001b[1;33m\u001b[0m\u001b[1;33m\u001b[0m\u001b[0m\n\u001b[0m\u001b[0;32m    764\u001b[0m     \u001b[1;32mreturn\u001b[0m \u001b[0mwrap\u001b[0m\u001b[1;33m(\u001b[0m\u001b[0mr\u001b[0m\u001b[1;33m.\u001b[0m\u001b[0mastype\u001b[0m\u001b[1;33m(\u001b[0m\u001b[0mresult_t\u001b[0m\u001b[1;33m,\u001b[0m \u001b[0mcopy\u001b[0m\u001b[1;33m=\u001b[0m\u001b[1;32mFalse\u001b[0m\u001b[1;33m)\u001b[0m\u001b[1;33m)\u001b[0m\u001b[1;33m\u001b[0m\u001b[1;33m\u001b[0m\u001b[0m\n\u001b[0;32m    765\u001b[0m \u001b[1;33m\u001b[0m\u001b[0m\n",
      "\u001b[1;32m~\\anaconda3\\lib\\site-packages\\numpy\\linalg\\linalg.py\u001b[0m in \u001b[0;36m_raise_linalgerror_nonposdef\u001b[1;34m(err, flag)\u001b[0m\n\u001b[0;32m     89\u001b[0m \u001b[1;33m\u001b[0m\u001b[0m\n\u001b[0;32m     90\u001b[0m \u001b[1;32mdef\u001b[0m \u001b[0m_raise_linalgerror_nonposdef\u001b[0m\u001b[1;33m(\u001b[0m\u001b[0merr\u001b[0m\u001b[1;33m,\u001b[0m \u001b[0mflag\u001b[0m\u001b[1;33m)\u001b[0m\u001b[1;33m:\u001b[0m\u001b[1;33m\u001b[0m\u001b[1;33m\u001b[0m\u001b[0m\n\u001b[1;32m---> 91\u001b[1;33m     \u001b[1;32mraise\u001b[0m \u001b[0mLinAlgError\u001b[0m\u001b[1;33m(\u001b[0m\u001b[1;34m\"Matrix is not positive definite\"\u001b[0m\u001b[1;33m)\u001b[0m\u001b[1;33m\u001b[0m\u001b[1;33m\u001b[0m\u001b[0m\n\u001b[0m\u001b[0;32m     92\u001b[0m \u001b[1;33m\u001b[0m\u001b[0m\n\u001b[0;32m     93\u001b[0m \u001b[1;32mdef\u001b[0m \u001b[0m_raise_linalgerror_eigenvalues_nonconvergence\u001b[0m\u001b[1;33m(\u001b[0m\u001b[0merr\u001b[0m\u001b[1;33m,\u001b[0m \u001b[0mflag\u001b[0m\u001b[1;33m)\u001b[0m\u001b[1;33m:\u001b[0m\u001b[1;33m\u001b[0m\u001b[1;33m\u001b[0m\u001b[0m\n",
      "\u001b[1;31mLinAlgError\u001b[0m: Matrix is not positive definite"
     ]
    }
   ],
   "source": [
    "A=np.array([[2,4,1],[4,0,1],[1,1,5]])\n",
    "np.linalg.cholesky(A)"
   ]
  },
  {
   "cell_type": "markdown",
   "id": "24a0d707",
   "metadata": {},
   "source": [
    "**Ejercicio 2:** Define una función que resuelva un sistema de ecuaciones lineales mediante la factorización de Cholesky. Comprueba su funcionamiento para intentar resolver el sistema $A x=b$ donde $b=\\left(2,-5,1 \\right)$ en los casos de los ejemplos anteriores:\n",
    "$$A=\\left(\\begin{array}{rrr}\n",
    "2 & 4 & 1 \\\\\n",
    "4 & 10 & 1 \\\\\n",
    "1 & 1 & 5 \\end{array} \\right) \\qquad \n",
    "A=\\left(\\begin{array}{rrr}\n",
    "2 & 4 & 1 \\\\\n",
    "4 & 0 & 1 \\\\\n",
    "1 & 1 & 5 \\end{array} \\right)$$ \n",
    "\n",
    "**No** se permite utilizar la función `linalg.cholesky`de `NumPy`. Hay que modificar el código anterior de la factorización LU para definir una función que haga dicha factorización.\n"
   ]
  },
  {
   "cell_type": "code",
   "execution_count": null,
   "id": "82b62258",
   "metadata": {},
   "outputs": [],
   "source": []
  }
 ],
 "metadata": {
  "kernelspec": {
   "display_name": "Python 3 (ipykernel)",
   "language": "python",
   "name": "python3"
  },
  "language_info": {
   "codemirror_mode": {
    "name": "ipython",
    "version": 3
   },
   "file_extension": ".py",
   "mimetype": "text/x-python",
   "name": "python",
   "nbconvert_exporter": "python",
   "pygments_lexer": "ipython3",
   "version": "3.9.7"
  }
 },
 "nbformat": 4,
 "nbformat_minor": 5
}
