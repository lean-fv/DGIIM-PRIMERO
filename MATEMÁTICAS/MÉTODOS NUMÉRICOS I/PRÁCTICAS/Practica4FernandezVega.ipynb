{
 "cells": [
  {
   "cell_type": "markdown",
   "id": "9c141947",
   "metadata": {},
   "source": [
    "# PRÁCTICA 4: Interpolación: El fenómeno de Runge\n",
    "## Leandro Jorge Fernández Vega"
   ]
  },
  {
   "cell_type": "markdown",
   "id": "8197cbeb",
   "metadata": {},
   "source": [
    "El objetivo final de esta práctica es construir el gráfico que ilustra el fenómeno de Runge, en el que\n",
    "se muestra como al aumentar el número de puntos de interpolación puede ocurrir que la gráfica del\n",
    "polinomio de interpolación no se aproxime a la gráfica de la función interpolada."
   ]
  },
  {
   "cell_type": "markdown",
   "id": "8e05a09e",
   "metadata": {},
   "source": [
    "En el gráfico se incluyen la función interpolada f(x) =\n",
    "1/(1 + x^2) y las gráficas de los polinomios de\n",
    "grados 6 y 14 que interpolan a f en puntos equiespaciados del intervalo [-5,5]."
   ]
  },
  {
   "cell_type": "code",
   "execution_count": 1,
   "id": "127aaea2",
   "metadata": {},
   "outputs": [],
   "source": [
    "import numpy as np\n",
    "import matplotlib.pyplot as plt"
   ]
  },
  {
   "cell_type": "markdown",
   "id": "31fe9c41",
   "metadata": {},
   "source": [
    "**Ejercicio 1: Construya un array que contenga un conjunto de n puntos equiespaciados del intervalo [-5,5].**"
   ]
  },
  {
   "cell_type": "code",
   "execution_count": 2,
   "id": "56979e7a",
   "metadata": {},
   "outputs": [],
   "source": [
    "def Puntos_Equidistantes(n):\n",
    "    \n",
    "    \"\"\"Esta función construye un array con n puntos equidistantes del intervalo [-5,5].\"\"\"\n",
    "    \n",
    "    x=np.zeros(n+1)\n",
    "    for k in range(n+1):\n",
    "        x[k]=-5+(10*k)/n\n",
    "        \n",
    "    return x\n",
    "    "
   ]
  },
  {
   "cell_type": "code",
   "execution_count": 3,
   "id": "5807176d",
   "metadata": {},
   "outputs": [],
   "source": [
    "#Construcción del vector de puntos entre -5 y 5 con saltos de 0.1.\n",
    "p_interpolacion=Puntos_Equidistantes(100)"
   ]
  },
  {
   "cell_type": "code",
   "execution_count": null,
   "id": "b796ce0a",
   "metadata": {},
   "outputs": [],
   "source": []
  },
  {
   "cell_type": "markdown",
   "id": "e9036ed5",
   "metadata": {},
   "source": [
    "**Ejercicio 2: Construya un array que contenga las imágenes mediante f de los puntos anteriores.**"
   ]
  },
  {
   "cell_type": "code",
   "execution_count": 4,
   "id": "2c1c46d7",
   "metadata": {},
   "outputs": [],
   "source": [
    "def f(x):\n",
    "    \n",
    "    \"\"\"Esta es la función Función 1/(1+x**2).\"\"\"\n",
    "    \n",
    "    return 1/(1+x**2)"
   ]
  },
  {
   "cell_type": "code",
   "execution_count": 5,
   "id": "35d42453",
   "metadata": {},
   "outputs": [],
   "source": [
    "#Contrucción del vector de imágenes a partir de x.\n",
    "y=f(p_interpolacion)"
   ]
  },
  {
   "cell_type": "code",
   "execution_count": null,
   "id": "1d6d69d5",
   "metadata": {},
   "outputs": [],
   "source": []
  },
  {
   "cell_type": "markdown",
   "id": "ee95b05f",
   "metadata": {},
   "source": [
    "**Ejercicio 3: Construya una función en Python que a partir de los arrays anteriores calcule la tabla de diferencias divididas. Dicha función debe devolver solo los coeficientes del polinomio de interpolación en su forma de Newton.**"
   ]
  },
  {
   "cell_type": "code",
   "execution_count": 6,
   "id": "42ff0f29",
   "metadata": {},
   "outputs": [],
   "source": [
    "def Dif_Divididas(x,y):\n",
    "    \n",
    "    \"\"\"Esta función calcula la tabla de diferencias divididas a partir de unos puntos de interpolación y sus imágenes \n",
    "                y extrae los coeficientes necesarios para construir el polinomio de interpolación.\"\"\"\n",
    "    \n",
    "    \n",
    "    n=np.size(x)\n",
    "    tabla=np.zeros([n,n])\n",
    "    \n",
    "    #Guardamos las imágenes  \n",
    "    for i in range (n):            \n",
    "            tabla[i][0]=y[i]\n",
    "            \n",
    "    for j in range (1,n):\n",
    "        for i in range (j,n):\n",
    "            tabla[i][j] = (tabla[i][j-1] - tabla[i-1][j-1])/(x[i]-x[i-j])\n",
    "\n",
    "    #Extraemos los coeficientes que nos interesan.\n",
    "    coeficientes=np.zeros(n)   \n",
    "    for i in range (n):\n",
    "        coeficientes[i]=tabla[i][i]\n",
    "    \n",
    "    return coeficientes"
   ]
  },
  {
   "cell_type": "code",
   "execution_count": null,
   "id": "e68f402e",
   "metadata": {},
   "outputs": [],
   "source": []
  },
  {
   "cell_type": "code",
   "execution_count": null,
   "id": "0e50e0dd",
   "metadata": {},
   "outputs": [],
   "source": []
  },
  {
   "cell_type": "markdown",
   "id": "338914a1",
   "metadata": {},
   "source": [
    "**Ejercicio 4: Construya una función en Python que a partir del array de puntos y del array de coeficientas\n",
    "proporcione el valor del polinomio interpolación de Newton en un punto x.**"
   ]
  },
  {
   "cell_type": "code",
   "execution_count": 7,
   "id": "cc050ce2",
   "metadata": {},
   "outputs": [],
   "source": [
    "def Pol_Newton(x,x_0,coeficientes):\n",
    "    \n",
    "    \"\"\"Esta función evalúa en el punto x el polinomio que interpola el vector de puntos x_0, y dados los coeficientes\n",
    "                                obtenidos en la tabla de diferencias divididas.\"\"\"\n",
    "    \n",
    "    \n",
    "    n=np.size(x_0)\n",
    "    polinomio=0\n",
    "    acumulacion=1\n",
    "    \n",
    "    for i in range (n):\n",
    "        polinomio+=coeficientes[i]*acumulacion\n",
    "        acumulacion=1\n",
    "        for j in range(i+1):\n",
    "            acumulacion*=(x-x_0[j])\n",
    "\n",
    "    return polinomio"
   ]
  },
  {
   "cell_type": "code",
   "execution_count": null,
   "id": "df98f324",
   "metadata": {},
   "outputs": [],
   "source": []
  },
  {
   "cell_type": "markdown",
   "id": "e143e9a3",
   "metadata": {},
   "source": [
    "**Ejercicio 5: Utilice la función anterior para construir la gráfica pedida.**"
   ]
  },
  {
   "cell_type": "code",
   "execution_count": 8,
   "id": "4bac16e1",
   "metadata": {},
   "outputs": [],
   "source": [
    "#Construcción del polinomio de interpolación de grado 6.\n",
    "x_6=Puntos_Equidistantes(6)\n",
    "coeficientes_6=Dif_Divididas(x_6,f(x_6))\n",
    "n=np.size(p_interpolacion)\n",
    "pol_6=np.zeros(n)\n",
    "j=0\n",
    "for i in p_interpolacion:\n",
    "    pol_6[j]=Pol_Newton(i,x_6,coeficientes_6)\n",
    "    j=j+1\n",
    "\n",
    "#Construcción del polinomio de interpolación de grado 14.\n",
    "x_14=Puntos_Equidistantes(14)\n",
    "coeficientes_14=Dif_Divididas(x_14,f(x_14))\n",
    "pol_14=np.zeros(n)\n",
    "j=0\n",
    "for i in p_interpolacion:\n",
    "    pol_14[j]=Pol_Newton(i,x_14,coeficientes_14)\n",
    "    j=j+1"
   ]
  },
  {
   "cell_type": "code",
   "execution_count": 9,
   "id": "3300d858",
   "metadata": {},
   "outputs": [
    {
     "data": {
      "text/plain": [
       "[<matplotlib.lines.Line2D at 0x23794b77100>]"
      ]
     },
     "execution_count": 9,
     "metadata": {},
     "output_type": "execute_result"
    },
    {
     "data": {
      "image/png": "[encoded data removed]",
      "text/plain": [
       "<Figure size 432x288 with 1 Axes>"
      ]
     },
     "metadata": {
      "needs_background": "light"
     },
     "output_type": "display_data"
    }
   ],
   "source": [
    "#Esbozado de las gráficas.\n",
    "plt.plot(p_interpolacion,y,'r')\n",
    "plt.plot(p_interpolacion,pol_6,'c')\n",
    "plt.plot(p_interpolacion,pol_14,'b')"
   ]
  },
  {
   "cell_type": "code",
   "execution_count": null,
   "id": "4a7d2866",
   "metadata": {},
   "outputs": [],
   "source": []
  }
 ],
 "metadata": {
  "kernelspec": {
   "display_name": "Python 3 (ipykernel)",
   "language": "python",
   "name": "python3"
  },
  "language_info": {
   "codemirror_mode": {
    "name": "ipython",
    "version": 3
   },
   "file_extension": ".py",
   "mimetype": "text/x-python",
   "name": "python",
   "nbconvert_exporter": "python",
   "pygments_lexer": "ipython3",
   "version": "3.9.7"
  }
 },
 "nbformat": 4,
 "nbformat_minor": 5
}
