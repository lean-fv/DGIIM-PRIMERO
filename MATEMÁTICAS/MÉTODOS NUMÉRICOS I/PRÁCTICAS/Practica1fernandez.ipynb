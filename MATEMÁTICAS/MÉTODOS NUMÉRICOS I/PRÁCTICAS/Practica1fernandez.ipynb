{
 "cells": [
  {
   "cell_type": "markdown",
   "id": "6fda20c9",
   "metadata": {},
   "source": [
    "# Práctica 1: Resolución de SEL. Métodos directos. Método de Gauss\n",
    "### Leandro Jorge Fernández Vega"
   ]
  },
  {
   "cell_type": "markdown",
   "id": "d508f2d8",
   "metadata": {},
   "source": [
    "Ejercicio 1: Escribe una función que resuelva por sustitución progresiva un sistema en el que la matriz de coeficientes es \n",
    "triangular inferior. Comprueba que se obtiene el mismo resultado utilizando dicha función que mediante la función solve de ç\n",
    "Numpy si lo aplicamos a las matrices 𝐴=[[1,0,0],[2,2,0],[3,1,5]] b=(2,5,1)\n"
   ]
  },
  {
   "cell_type": "code",
   "execution_count": 3,
   "id": "9a43fb12",
   "metadata": {},
   "outputs": [],
   "source": [
    "import numpy as np"
   ]
  },
  {
   "cell_type": "code",
   "execution_count": 4,
   "id": "0836a7d2",
   "metadata": {},
   "outputs": [],
   "source": [
    "def sust_progresiva(A,b):\n",
    "    \"\"\"\n",
    "    Esta función resuelve el sistema Ax=b mediante sustitución progresiva. \n",
    "    A y b deben ser arrays de numpy. \n",
    "    A debe ser una matriz triangular inferior.\n",
    "    \"\"\"\n",
    "    A=A.astype(float)     # cambiamos los elementos a tipo flotante\n",
    "    b=b.astype(float) \n",
    "    n=np.size(b)\n",
    "    x=np.zeros(n)         # almacenaremos aquí la solución del sistema\n",
    "                       \n",
    "    # ahora se resuelve el sistema por sustitución progresiva\n",
    "    x[0]=b[0]/A[0,0]\n",
    "    for i in range(1,n,1):     \n",
    "        x[i]=(b[i]-np.dot(A[i,:i],x[:i]))/A[i,i]\n",
    "                \n",
    "    return x"
   ]
  },
  {
   "cell_type": "code",
   "execution_count": 5,
   "id": "b1335bfa",
   "metadata": {},
   "outputs": [],
   "source": [
    "def sust_regresiva(A,b):\n",
    "    \"\"\"\n",
    "    Esta función resuelve el sistema Ax=b mediante sustitución regresiva. \n",
    "    A y b deben ser arrays de numpy. \n",
    "    A debe ser una matriz triangular superior.\n",
    "    \"\"\"\n",
    "    A=A.astype(float)     # cambiamos los elementos a tipo flotante\n",
    "    b=b.astype(float) \n",
    "    n=np.size(b)\n",
    "    x=np.zeros(n)         # almacenaremos aquí la solución del sistema\n",
    "                       \n",
    "    # ahora se resuelve el sistema por sustitución regresiva\n",
    "    x[n-1]=b[n-1]/A[n-1,n-1]\n",
    "    for i in range(n-2,-1,-1):     \n",
    "        x[i]=(b[i]-np.dot(A[i][i+1:],x[i+1:]))/A[i,i]\n",
    "                \n",
    "    return x"
   ]
  },
  {
   "cell_type": "code",
   "execution_count": 6,
   "id": "8ec1e9cd",
   "metadata": {},
   "outputs": [
    {
     "data": {
      "text/plain": [
       "array([ 2. ,  0.5, -1.1])"
      ]
     },
     "execution_count": 6,
     "metadata": {},
     "output_type": "execute_result"
    }
   ],
   "source": [
    "A=np.array([[1,0,0],[2,2,0],[3,1,5]])\n",
    "b=np.array([2,5,1])\n",
    "sust_progresiva(A,b)"
   ]
  },
  {
   "cell_type": "markdown",
   "id": "37fd212f",
   "metadata": {},
   "source": [
    "Ejercicio 2: Modifica el código anterior para que resuelva SEL usando pivotaje parcial. Comprueba que el código funciona \n",
    "correctamente con las mismas matrices 𝐴 y 𝑏 del ejemplo anterior.\n"
   ]
  },
  {
   "cell_type": "markdown",
   "id": "8640b9c3",
   "metadata": {},
   "source": [
    "# Funciones"
   ]
  },
  {
   "cell_type": "code",
   "execution_count": 7,
   "id": "7ed8373c",
   "metadata": {},
   "outputs": [],
   "source": [
    "def Pos_fila_max (columna):\n",
    "    \"\"\"\n",
    "    Esta función calcula la posición de la fila donde se encuentra el elemento con mayor valor absoluto.\n",
    "    \n",
    "    \"\"\"\n",
    "    pos_fila_max = 0\n",
    "    max = 0\n",
    "    for i in range (0, len(columna)):\n",
    "        if (columna[i] > max):\n",
    "            pos_fila_max = i\n",
    "            max = i\n",
    "        \n",
    "    return pos_fila_max"
   ]
  },
  {
   "cell_type": "code",
   "execution_count": 8,
   "id": "58527b04",
   "metadata": {},
   "outputs": [],
   "source": [
    "def Pivote_max (columna):\n",
    "    for i in range (0,len(columna)):\n",
    "        max = 0;\n",
    "        if (columna[i] > max):\n",
    "            max = columna[i]\n",
    "        \n",
    "    return max"
   ]
  },
  {
   "cell_type": "markdown",
   "id": "c909033c",
   "metadata": {},
   "source": [
    "# Programa Principal"
   ]
  },
  {
   "cell_type": "code",
   "execution_count": 9,
   "id": "65eacfd2",
   "metadata": {},
   "outputs": [],
   "source": [
    "def Gauss_pivotaje_parcial(A,b):\n",
    "    \"\"\"\n",
    "    Esta función resuelve el sistema Ax=b mediante el método de Gauss. \n",
    "    A y b deben ser arrays de numpy.\n",
    "    \"\"\"\n",
    "    A=A.astype(float)     # cambiamos los elementos a tipo flotante\n",
    "    bb=(np.array([b]).transpose()).astype(float) \n",
    "    Ab=np.concatenate((A,bb),axis=1)\n",
    "    n=np.size(b)\n",
    "    x=np.zeros(n)         # almacenaremos aquí la solución del sistema\n",
    "    \n",
    "    for i in range (0,n-1):\n",
    "        columna = Ab[:,i].copy()\n",
    "        pos_fila_max = Pos_fila_max (columna[i:]) #calculamos en qué fila está el máximo\n",
    "        \n",
    "        if columna[i] != Pivote_max(columna): #comparamos el elemento de mayor valor con el de la posición i de la columna, \n",
    "                                              #e intercambiamos si es necesario\n",
    "            aux = Ab[i].copy()\n",
    "            Ab[i] = Ab[pos_fila_max]\n",
    "            Ab[pos_fila_max] = aux\n",
    "            \n",
    "    # aquí se hacen operaciones por filas en la matriz para conseguir una triangular\n",
    "    for i in range(n):\n",
    "        for j in range(i+1,n):\n",
    "            m=Ab[j,i]/Ab[i,i]\n",
    "            Ab[j][i+1:]=Ab[j][i+1:]-m*Ab[i][i+1:]\n",
    "                    \n",
    "    # ahora se resuelve el sistema por sustitución regresiva\n",
    "    x[n-1]=Ab[n-1,n]/Ab[n-1,n-1]\n",
    "    for i in range(n-2,-1,-1):\n",
    "        x[i]=(Ab[i,n]-np.dot(Ab[i][i+1:n],x[i+1:n]))/Ab[i,i]\n",
    "                \n",
    "    return x"
   ]
  },
  {
   "cell_type": "code",
   "execution_count": 10,
   "id": "22efb400",
   "metadata": {},
   "outputs": [
    {
     "data": {
      "text/plain": [
       "array([-2.86666667,  2.4       , -1.86666667])"
      ]
     },
     "execution_count": 10,
     "metadata": {},
     "output_type": "execute_result"
    }
   ],
   "source": [
    "A=np.array([[2,4,1],[1,3,5],[-1,0,1]])\n",
    "b=np.array([2,-5,1])\n",
    "Gauss_pivotaje_parcial(A,b)"
   ]
  },
  {
   "cell_type": "code",
   "execution_count": null,
   "id": "ed317ea4",
   "metadata": {},
   "outputs": [],
   "source": []
  }
 ],
 "metadata": {
  "kernelspec": {
   "display_name": "Python 3 (ipykernel)",
   "language": "python",
   "name": "python3"
  },
  "language_info": {
   "codemirror_mode": {
    "name": "ipython",
    "version": 3
   },
   "file_extension": ".py",
   "mimetype": "text/x-python",
   "name": "python",
   "nbconvert_exporter": "python",
   "pygments_lexer": "ipython3",
   "version": "3.9.7"
  }
 },
 "nbformat": 4,
 "nbformat_minor": 5
}
